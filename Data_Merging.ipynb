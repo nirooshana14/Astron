{
  "nbformat": 4,
  "nbformat_minor": 0,
  "metadata": {
    "colab": {
      "provenance": [],
      "authorship_tag": "ABX9TyMvBhGPUYD5LdhwgL1aISdn",
      "include_colab_link": true
    },
    "kernelspec": {
      "name": "python3",
      "display_name": "Python 3"
    },
    "language_info": {
      "name": "python"
    }
  },
  "cells": [
    {
      "cell_type": "markdown",
      "metadata": {
        "id": "view-in-github",
        "colab_type": "text"
      },
      "source": [
        "<a href=\"https://colab.research.google.com/github/nirooshana14/Astron/blob/main/Data_Merging.ipynb\" target=\"_parent\"><img src=\"https://colab.research.google.com/assets/colab-badge.svg\" alt=\"Open In Colab\"/></a>"
      ]
    },
    {
      "cell_type": "code",
      "execution_count": 41,
      "metadata": {
        "id": "p7dFmwXpg9zX"
      },
      "outputs": [],
      "source": [
        "import pandas as pd\n",
        "import numpy as np\n",
        "import matplotlib.pyplot as plt\n",
        "from google.colab import drive"
      ]
    },
    {
      "cell_type": "code",
      "source": [
        "import shutil\n",
        "import os"
      ],
      "metadata": {
        "id": "reE8qcjBhlU3"
      },
      "execution_count": 129,
      "outputs": []
    },
    {
      "cell_type": "code",
      "source": [
        "drive.mount('/content/gdrive')"
      ],
      "metadata": {
        "colab": {
          "base_uri": "https://localhost:8080/"
        },
        "id": "fp1ryXUTnNpS",
        "outputId": "32c587eb-482d-41d3-d010-58f9fe1c7f72"
      },
      "execution_count": 131,
      "outputs": [
        {
          "output_type": "stream",
          "name": "stdout",
          "text": [
            "Drive already mounted at /content/gdrive; to attempt to forcibly remount, call drive.mount(\"/content/gdrive\", force_remount=True).\n"
          ]
        }
      ]
    },
    {
      "cell_type": "markdown",
      "source": [
        "Importing Dataset"
      ],
      "metadata": {
        "id": "vOV_ls0rnVif"
      }
    },
    {
      "cell_type": "code",
      "source": [
        "file_path16 = '/content/gdrive/MyDrive/FYP_Datasets/1_Unfiltered/2016_raw.csv'\n",
        "file_path17 = '/content/gdrive/MyDrive/FYP_Datasets/1_Unfiltered/2017_raw.xlsx'\n",
        "file_path18 = '/content/gdrive/MyDrive/FYP_Datasets/1_Unfiltered/2018_raw.xlsx'\n",
        "file_path19 = '/content/gdrive/MyDrive/FYP_Datasets/1_Unfiltered/2019_raw.xlsx'"
      ],
      "metadata": {
        "id": "8pTkh-nonoLf"
      },
      "execution_count": 43,
      "outputs": []
    },
    {
      "cell_type": "code",
      "source": [
        "df16 = pd.read_csv(file_path16)\n",
        "df17 = pd.read_excel(file_path17)\n",
        "df18 = pd.read_excel(file_path18)\n",
        "df19 = pd.read_excel(file_path19)"
      ],
      "metadata": {
        "colab": {
          "base_uri": "https://localhost:8080/"
        },
        "id": "WvwB4ucSoQCj",
        "outputId": "03877147-d69e-4406-a06a-c7e4436a4519"
      },
      "execution_count": 56,
      "outputs": [
        {
          "output_type": "stream",
          "name": "stderr",
          "text": [
            "<ipython-input-55-59fe56de830d>:1: DtypeWarning: Columns (13,19) have mixed types. Specify dtype option on import or set low_memory=False.\n",
            "  df16 = pd.read_csv(file_path16)\n",
            "<ipython-input-56-59fe56de830d>:1: DtypeWarning: Columns (13,19) have mixed types. Specify dtype option on import or set low_memory=False.\n",
            "  df16 = pd.read_csv(file_path16)\n"
          ]
        }
      ]
    },
    {
      "cell_type": "code",
      "source": [
        "df16c = df16.copy()\n",
        "df17c = df17.copy()\n",
        "df18c = df18.copy()\n",
        "df19c = df19.copy()"
      ],
      "metadata": {
        "id": "RffcYRO6_BwA"
      },
      "execution_count": 57,
      "outputs": []
    },
    {
      "cell_type": "markdown",
      "source": [
        "2016"
      ],
      "metadata": {
        "id": "UcZVecbHor3w"
      }
    },
    {
      "cell_type": "code",
      "source": [
        "df16.info()"
      ],
      "metadata": {
        "colab": {
          "base_uri": "https://localhost:8080/"
        },
        "id": "ftDSOgzRooto",
        "outputId": "45a044b3-bd2a-4607-cfd7-82627f3e03fb"
      },
      "execution_count": 70,
      "outputs": [
        {
          "output_type": "stream",
          "name": "stdout",
          "text": [
            "<class 'pandas.core.frame.DataFrame'>\n",
            "Int64Index: 36829 entries, 1 to 193496\n",
            "Data columns (total 43 columns):\n",
            " #   Column                               Non-Null Count  Dtype         \n",
            "---  ------                               --------------  -----         \n",
            " 0   X                                    36829 non-null  int64         \n",
            " 1   X2016_tbldailycatchrecordext_Rec_No  36829 non-null  object        \n",
            " 2   Catch_Type                           36829 non-null  object        \n",
            " 3   Month                                36829 non-null  int64         \n",
            " 4   Date_Of_Set                          36829 non-null  int64         \n",
            " 5   StartTime                            36829 non-null  int64         \n",
            " 6   EndTime                              36829 non-null  int64         \n",
            " 7   Latitude                             36829 non-null  object        \n",
            " 8   Longetude                            36829 non-null  object        \n",
            " 9   Total_Length_of_Net                  0 non-null      object        \n",
            " 10  Mesh_Size                            36829 non-null  float64       \n",
            " 11  Depth_Net_Set                        36829 non-null  float64       \n",
            " 12  Height_of_net                        36829 non-null  float64       \n",
            " 13  FADType                              0 non-null      object        \n",
            " 14  GillNetLen                           36828 non-null  float64       \n",
            " 15  BranchLine_Len                       36828 non-null  object        \n",
            " 16  Hooks_Between                        36829 non-null  int64         \n",
            " 17  Total_Hooks                          36829 non-null  int64         \n",
            " 18  Type_of_Bait                         21101 non-null  object        \n",
            " 19  Remarks                              10 non-null     object        \n",
            " 20  Rec_Date                             36829 non-null  object        \n",
            " 21  EndLatitude                          0 non-null      object        \n",
            " 22  EndLongetude                         0 non-null      object        \n",
            " 23  zone                                 36825 non-null  object        \n",
            " 24  Date_set                             36829 non-null  datetime64[ns]\n",
            " 25  Lat                                  36829 non-null  object        \n",
            " 26  Long                                 36829 non-null  object        \n",
            " 27  Fish_Name                            36829 non-null  object        \n",
            " 28  KG                                   36829 non-null  float64       \n",
            " 29  Amount                               36829 non-null  float64       \n",
            " 30  Log_Book_No                          36829 non-null  object        \n",
            " 31  Boat_No                              36829 non-null  object        \n",
            " 32  Departure_Port                       36829 non-null  object        \n",
            " 33  Departure_Date                       36829 non-null  object        \n",
            " 34  Arrival_Port                         36829 non-null  object        \n",
            " 35  Arrival_date                         36829 non-null  object        \n",
            " 36  lat                                  36829 non-null  float64       \n",
            " 37  lon                                  36829 non-null  float64       \n",
            " 38  fdate                                36829 non-null  datetime64[ns]\n",
            " 39  latd                                 36829 non-null  float64       \n",
            " 40  lond                                 36829 non-null  float64       \n",
            " 41  Year                                 36829 non-null  int64         \n",
            " 42  Set_Date                             36766 non-null  datetime64[ns]\n",
            "dtypes: datetime64[ns](3), float64(10), int64(8), object(22)\n",
            "memory usage: 12.4+ MB\n"
          ]
        }
      ]
    },
    {
      "cell_type": "code",
      "source": [
        "df16['Fish_Name'].value_counts()"
      ],
      "metadata": {
        "colab": {
          "base_uri": "https://localhost:8080/"
        },
        "id": "jXJdHcGFrZ6-",
        "outputId": "1fb4a3c9-8d00-4316-8330-8321355c7c6a"
      },
      "execution_count": 59,
      "outputs": [
        {
          "output_type": "execute_result",
          "data": {
            "text/plain": [
              "Skipjack tuna                  53024\n",
              "Yellowfin tuna                 44746\n",
              "Sword fish                     16922\n",
              "Indian Scad (Linna)            12264\n",
              "Sail fish                       9766\n",
              "Big eye tuna                    9096\n",
              "Marlin                          7366\n",
              "Frigate tuna                    5091\n",
              "Black marlin                    4221\n",
              "Rainbow runner(Lena parawa)     4171\n",
              "Trigger fish (Pothubara)        3927\n",
              "OTHERS                          3757\n",
              "Blue marlin                     3307\n",
              "Silky shark                     2491\n",
              "Blue shark                      2255\n",
              "Wahoo                           2022\n",
              "Kawakawa                        2009\n",
              "Albacore                        1126\n",
              "Bullet tuna                      811\n",
              "Spanish mackrel                  744\n",
              "Ray Fish (Maduwa)                730\n",
              "LELAWA                           616\n",
              "Dolphin fish(Vanna)              491\n",
              "Mako shark                       474\n",
              "KATTA                            422\n",
              "Hamer head shark                 372\n",
              "Habarali                         253\n",
              "ROCK FISH                        196\n",
              "Stripped marlin                  186\n",
              "WANNA KATTA                      142\n",
              "CUTTLE FISH                      130\n",
              "SAPURU                            79\n",
              "Paramuwa                          53\n",
              "BIGEYE SCADE                      47\n",
              "Other Sharks                      44\n",
              "MURALLA                           39\n",
              "SEER                              35\n",
              "SIVIYA                            22\n",
              "PALLA MACHLI                      17\n",
              "SMALL TUNA                        16\n",
              "OTHER SAIL                        15\n",
              "BAYITA                            14\n",
              "Sawara                             8\n",
              "SURUTTA                            5\n",
              "Name: Fish_Name, dtype: int64"
            ]
          },
          "metadata": {},
          "execution_count": 59
        }
      ]
    },
    {
      "cell_type": "code",
      "source": [
        "df16['Catch_Type'].value_counts()"
      ],
      "metadata": {
        "colab": {
          "base_uri": "https://localhost:8080/"
        },
        "id": "PtuYCsoesmAU",
        "outputId": "32048083-3927-4ee5-a39d-3f2c87ad505f"
      },
      "execution_count": 60,
      "outputs": [
        {
          "output_type": "execute_result",
          "data": {
            "text/plain": [
              "gillnets    88405\n",
              "longline    72996\n",
              "ringnet     32121\n",
              "Name: Catch_Type, dtype: int64"
            ]
          },
          "metadata": {},
          "execution_count": 60
        }
      ]
    },
    {
      "cell_type": "code",
      "source": [
        "df16 = df16[(df16['Fish_Name'] == 'Yellowfin tuna')]\n",
        "df16 = df16[(df16['Catch_Type'] == 'longline')]"
      ],
      "metadata": {
        "id": "8lwRkombsZX9"
      },
      "execution_count": 61,
      "outputs": []
    },
    {
      "cell_type": "code",
      "source": [
        "df16['Year'] = 2016\n",
        "\n",
        "# Combine \"Month\", \"Date_Of_Set\", and \"Year\" to create a new variable \"Set_Date\"\n",
        "df16['Set_Date'] = pd.to_datetime(df16[['Year', 'Month', 'Date_Of_Set']].astype(str).agg(' '.join, axis=1), format='%Y %m %d', errors='coerce')"
      ],
      "metadata": {
        "id": "QQVi0Plix-ZK"
      },
      "execution_count": 62,
      "outputs": []
    },
    {
      "cell_type": "code",
      "source": [
        "df16['Date_set'] = pd.to_datetime(df16['Date_set'])"
      ],
      "metadata": {
        "id": "jlucSKS4xw5p"
      },
      "execution_count": 63,
      "outputs": []
    },
    {
      "cell_type": "code",
      "source": [
        "df16['fdate'] = pd.to_datetime(df16['fdate'])"
      ],
      "metadata": {
        "id": "V5uDjMUQx2mZ"
      },
      "execution_count": 64,
      "outputs": []
    },
    {
      "cell_type": "code",
      "source": [
        "different_values = df16[df16['Set_Date'] != df16['fdate']][['Set_Date', 'fdate']]"
      ],
      "metadata": {
        "colab": {
          "base_uri": "https://localhost:8080/",
          "height": 512
        },
        "id": "YjRrchh2xO1h",
        "outputId": "a03ab994-3959-48b7-d876-36dab86e605f"
      },
      "execution_count": 65,
      "outputs": [
        {
          "output_type": "error",
          "ename": "KeyError",
          "evalue": "('Set_Date', 'fdate', 'Arrival_date', 'Departure_Date')",
          "traceback": [
            "\u001b[0;31m---------------------------------------------------------------------------\u001b[0m",
            "\u001b[0;31mKeyError\u001b[0m                                  Traceback (most recent call last)",
            "\u001b[0;32m/usr/local/lib/python3.10/dist-packages/pandas/core/indexes/base.py\u001b[0m in \u001b[0;36mget_loc\u001b[0;34m(self, key, method, tolerance)\u001b[0m\n\u001b[1;32m   3801\u001b[0m             \u001b[0;32mtry\u001b[0m\u001b[0;34m:\u001b[0m\u001b[0;34m\u001b[0m\u001b[0;34m\u001b[0m\u001b[0m\n\u001b[0;32m-> 3802\u001b[0;31m                 \u001b[0;32mreturn\u001b[0m \u001b[0mself\u001b[0m\u001b[0;34m.\u001b[0m\u001b[0m_engine\u001b[0m\u001b[0;34m.\u001b[0m\u001b[0mget_loc\u001b[0m\u001b[0;34m(\u001b[0m\u001b[0mcasted_key\u001b[0m\u001b[0;34m)\u001b[0m\u001b[0;34m\u001b[0m\u001b[0;34m\u001b[0m\u001b[0m\n\u001b[0m\u001b[1;32m   3803\u001b[0m             \u001b[0;32mexcept\u001b[0m \u001b[0mKeyError\u001b[0m \u001b[0;32mas\u001b[0m \u001b[0merr\u001b[0m\u001b[0;34m:\u001b[0m\u001b[0;34m\u001b[0m\u001b[0;34m\u001b[0m\u001b[0m\n",
            "\u001b[0;32m/usr/local/lib/python3.10/dist-packages/pandas/_libs/index.pyx\u001b[0m in \u001b[0;36mpandas._libs.index.IndexEngine.get_loc\u001b[0;34m()\u001b[0m\n",
            "\u001b[0;32m/usr/local/lib/python3.10/dist-packages/pandas/_libs/index.pyx\u001b[0m in \u001b[0;36mpandas._libs.index.IndexEngine.get_loc\u001b[0;34m()\u001b[0m\n",
            "\u001b[0;32mpandas/_libs/hashtable_class_helper.pxi\u001b[0m in \u001b[0;36mpandas._libs.hashtable.PyObjectHashTable.get_item\u001b[0;34m()\u001b[0m\n",
            "\u001b[0;32mpandas/_libs/hashtable_class_helper.pxi\u001b[0m in \u001b[0;36mpandas._libs.hashtable.PyObjectHashTable.get_item\u001b[0;34m()\u001b[0m\n",
            "\u001b[0;31mKeyError\u001b[0m: ('Set_Date', 'fdate', 'Arrival_date', 'Departure_Date')",
            "\nThe above exception was the direct cause of the following exception:\n",
            "\u001b[0;31mKeyError\u001b[0m                                  Traceback (most recent call last)",
            "\u001b[0;32m<ipython-input-65-1daa19c5b252>\u001b[0m in \u001b[0;36m<cell line: 3>\u001b[0;34m()\u001b[0m\n\u001b[1;32m      4\u001b[0m     \u001b[0mprint\u001b[0m\u001b[0;34m(\u001b[0m\u001b[0;34m\"There are no different values between columns\"\u001b[0m\u001b[0;34m)\u001b[0m\u001b[0;34m\u001b[0m\u001b[0;34m\u001b[0m\u001b[0m\n\u001b[1;32m      5\u001b[0m \u001b[0;32melse\u001b[0m\u001b[0;34m:\u001b[0m\u001b[0;34m\u001b[0m\u001b[0;34m\u001b[0m\u001b[0m\n\u001b[0;32m----> 6\u001b[0;31m     \u001b[0mdifferent_values\u001b[0m\u001b[0;34m[\u001b[0m\u001b[0;34m'Set_Date'\u001b[0m\u001b[0;34m,\u001b[0m\u001b[0;34m'fdate'\u001b[0m\u001b[0;34m,\u001b[0m\u001b[0;34m'Arrival_date'\u001b[0m\u001b[0;34m,\u001b[0m\u001b[0;34m'Departure_Date'\u001b[0m\u001b[0;34m]\u001b[0m\u001b[0;34m\u001b[0m\u001b[0;34m\u001b[0m\u001b[0m\n\u001b[0m",
            "\u001b[0;32m/usr/local/lib/python3.10/dist-packages/pandas/core/frame.py\u001b[0m in \u001b[0;36m__getitem__\u001b[0;34m(self, key)\u001b[0m\n\u001b[1;32m   3805\u001b[0m             \u001b[0;32mif\u001b[0m \u001b[0mself\u001b[0m\u001b[0;34m.\u001b[0m\u001b[0mcolumns\u001b[0m\u001b[0;34m.\u001b[0m\u001b[0mnlevels\u001b[0m \u001b[0;34m>\u001b[0m \u001b[0;36m1\u001b[0m\u001b[0;34m:\u001b[0m\u001b[0;34m\u001b[0m\u001b[0;34m\u001b[0m\u001b[0m\n\u001b[1;32m   3806\u001b[0m                 \u001b[0;32mreturn\u001b[0m \u001b[0mself\u001b[0m\u001b[0;34m.\u001b[0m\u001b[0m_getitem_multilevel\u001b[0m\u001b[0;34m(\u001b[0m\u001b[0mkey\u001b[0m\u001b[0;34m)\u001b[0m\u001b[0;34m\u001b[0m\u001b[0;34m\u001b[0m\u001b[0m\n\u001b[0;32m-> 3807\u001b[0;31m             \u001b[0mindexer\u001b[0m \u001b[0;34m=\u001b[0m \u001b[0mself\u001b[0m\u001b[0;34m.\u001b[0m\u001b[0mcolumns\u001b[0m\u001b[0;34m.\u001b[0m\u001b[0mget_loc\u001b[0m\u001b[0;34m(\u001b[0m\u001b[0mkey\u001b[0m\u001b[0;34m)\u001b[0m\u001b[0;34m\u001b[0m\u001b[0;34m\u001b[0m\u001b[0m\n\u001b[0m\u001b[1;32m   3808\u001b[0m             \u001b[0;32mif\u001b[0m \u001b[0mis_integer\u001b[0m\u001b[0;34m(\u001b[0m\u001b[0mindexer\u001b[0m\u001b[0;34m)\u001b[0m\u001b[0;34m:\u001b[0m\u001b[0;34m\u001b[0m\u001b[0;34m\u001b[0m\u001b[0m\n\u001b[1;32m   3809\u001b[0m                 \u001b[0mindexer\u001b[0m \u001b[0;34m=\u001b[0m \u001b[0;34m[\u001b[0m\u001b[0mindexer\u001b[0m\u001b[0;34m]\u001b[0m\u001b[0;34m\u001b[0m\u001b[0;34m\u001b[0m\u001b[0m\n",
            "\u001b[0;32m/usr/local/lib/python3.10/dist-packages/pandas/core/indexes/base.py\u001b[0m in \u001b[0;36mget_loc\u001b[0;34m(self, key, method, tolerance)\u001b[0m\n\u001b[1;32m   3802\u001b[0m                 \u001b[0;32mreturn\u001b[0m \u001b[0mself\u001b[0m\u001b[0;34m.\u001b[0m\u001b[0m_engine\u001b[0m\u001b[0;34m.\u001b[0m\u001b[0mget_loc\u001b[0m\u001b[0;34m(\u001b[0m\u001b[0mcasted_key\u001b[0m\u001b[0;34m)\u001b[0m\u001b[0;34m\u001b[0m\u001b[0;34m\u001b[0m\u001b[0m\n\u001b[1;32m   3803\u001b[0m             \u001b[0;32mexcept\u001b[0m \u001b[0mKeyError\u001b[0m \u001b[0;32mas\u001b[0m \u001b[0merr\u001b[0m\u001b[0;34m:\u001b[0m\u001b[0;34m\u001b[0m\u001b[0;34m\u001b[0m\u001b[0m\n\u001b[0;32m-> 3804\u001b[0;31m                 \u001b[0;32mraise\u001b[0m \u001b[0mKeyError\u001b[0m\u001b[0;34m(\u001b[0m\u001b[0mkey\u001b[0m\u001b[0;34m)\u001b[0m \u001b[0;32mfrom\u001b[0m \u001b[0merr\u001b[0m\u001b[0;34m\u001b[0m\u001b[0;34m\u001b[0m\u001b[0m\n\u001b[0m\u001b[1;32m   3805\u001b[0m             \u001b[0;32mexcept\u001b[0m \u001b[0mTypeError\u001b[0m\u001b[0;34m:\u001b[0m\u001b[0;34m\u001b[0m\u001b[0;34m\u001b[0m\u001b[0m\n\u001b[1;32m   3806\u001b[0m                 \u001b[0;31m# If we have a listlike key, _check_indexing_error will raise\u001b[0m\u001b[0;34m\u001b[0m\u001b[0;34m\u001b[0m\u001b[0m\n",
            "\u001b[0;31mKeyError\u001b[0m: ('Set_Date', 'fdate', 'Arrival_date', 'Departure_Date')"
          ]
        }
      ]
    },
    {
      "cell_type": "code",
      "source": [
        "nan_values = different_values[different_values['Set_Date'].isna()]\n",
        "\n",
        "if not nan_values.empty:\n",
        "    print(\"Records with NaT in 'Set_Date':\")\n",
        "    print(nan_values)\n",
        "else:\n",
        "    print(\"No records with NaT in 'Set_Date'.\")"
      ],
      "metadata": {
        "colab": {
          "base_uri": "https://localhost:8080/"
        },
        "id": "13bDQ_qiRmvD",
        "outputId": "803d1080-c0c4-4066-9563-103c26c69e1e"
      },
      "execution_count": 69,
      "outputs": [
        {
          "output_type": "stream",
          "name": "stdout",
          "text": [
            "Records with NaT in 'Set_Date':\n",
            "       Set_Date      fdate\n",
            "11688       NaT 2016-03-23\n",
            "19668       NaT 2016-04-08\n",
            "23121       NaT 2016-04-20\n",
            "30854       NaT 2016-05-06\n",
            "30855       NaT 2016-05-06\n",
            "...         ...        ...\n",
            "162963      NaT 2016-03-13\n",
            "167229      NaT 2016-03-15\n",
            "174105      NaT 2016-03-20\n",
            "174113      NaT 2016-03-20\n",
            "191341      NaT 2016-04-04\n",
            "\n",
            "[63 rows x 2 columns]\n"
          ]
        }
      ]
    },
    {
      "cell_type": "code",
      "source": [
        "different_values"
      ],
      "metadata": {
        "colab": {
          "base_uri": "https://localhost:8080/",
          "height": 424
        },
        "id": "TNdnICtnInvO",
        "outputId": "f4f887d6-f252-41ff-c98d-aff3c5a5336a"
      },
      "execution_count": 67,
      "outputs": [
        {
          "output_type": "execute_result",
          "data": {
            "text/plain": [
              "         Set_Date      fdate\n",
              "1408   2016-02-03 2016-01-20\n",
              "1410   2016-01-20 2016-02-03\n",
              "8004   2016-01-30 2016-02-22\n",
              "8010   2016-02-22 2016-01-30\n",
              "11688         NaT 2016-03-23\n",
              "...           ...        ...\n",
              "182641 2016-10-17 2016-11-13\n",
              "182652 2016-11-13 2016-10-17\n",
              "188300 2016-11-01 2016-12-08\n",
              "188303 2016-12-08 2016-11-01\n",
              "191341        NaT 2016-04-04\n",
              "\n",
              "[110 rows x 2 columns]"
            ],
            "text/html": [
              "\n",
              "  <div id=\"df-50fb5d97-8eeb-45e8-8dab-aca37e9ef062\" class=\"colab-df-container\">\n",
              "    <div>\n",
              "<style scoped>\n",
              "    .dataframe tbody tr th:only-of-type {\n",
              "        vertical-align: middle;\n",
              "    }\n",
              "\n",
              "    .dataframe tbody tr th {\n",
              "        vertical-align: top;\n",
              "    }\n",
              "\n",
              "    .dataframe thead th {\n",
              "        text-align: right;\n",
              "    }\n",
              "</style>\n",
              "<table border=\"1\" class=\"dataframe\">\n",
              "  <thead>\n",
              "    <tr style=\"text-align: right;\">\n",
              "      <th></th>\n",
              "      <th>Set_Date</th>\n",
              "      <th>fdate</th>\n",
              "    </tr>\n",
              "  </thead>\n",
              "  <tbody>\n",
              "    <tr>\n",
              "      <th>1408</th>\n",
              "      <td>2016-02-03</td>\n",
              "      <td>2016-01-20</td>\n",
              "    </tr>\n",
              "    <tr>\n",
              "      <th>1410</th>\n",
              "      <td>2016-01-20</td>\n",
              "      <td>2016-02-03</td>\n",
              "    </tr>\n",
              "    <tr>\n",
              "      <th>8004</th>\n",
              "      <td>2016-01-30</td>\n",
              "      <td>2016-02-22</td>\n",
              "    </tr>\n",
              "    <tr>\n",
              "      <th>8010</th>\n",
              "      <td>2016-02-22</td>\n",
              "      <td>2016-01-30</td>\n",
              "    </tr>\n",
              "    <tr>\n",
              "      <th>11688</th>\n",
              "      <td>NaT</td>\n",
              "      <td>2016-03-23</td>\n",
              "    </tr>\n",
              "    <tr>\n",
              "      <th>...</th>\n",
              "      <td>...</td>\n",
              "      <td>...</td>\n",
              "    </tr>\n",
              "    <tr>\n",
              "      <th>182641</th>\n",
              "      <td>2016-10-17</td>\n",
              "      <td>2016-11-13</td>\n",
              "    </tr>\n",
              "    <tr>\n",
              "      <th>182652</th>\n",
              "      <td>2016-11-13</td>\n",
              "      <td>2016-10-17</td>\n",
              "    </tr>\n",
              "    <tr>\n",
              "      <th>188300</th>\n",
              "      <td>2016-11-01</td>\n",
              "      <td>2016-12-08</td>\n",
              "    </tr>\n",
              "    <tr>\n",
              "      <th>188303</th>\n",
              "      <td>2016-12-08</td>\n",
              "      <td>2016-11-01</td>\n",
              "    </tr>\n",
              "    <tr>\n",
              "      <th>191341</th>\n",
              "      <td>NaT</td>\n",
              "      <td>2016-04-04</td>\n",
              "    </tr>\n",
              "  </tbody>\n",
              "</table>\n",
              "<p>110 rows × 2 columns</p>\n",
              "</div>\n",
              "    <div class=\"colab-df-buttons\">\n",
              "\n",
              "  <div class=\"colab-df-container\">\n",
              "    <button class=\"colab-df-convert\" onclick=\"convertToInteractive('df-50fb5d97-8eeb-45e8-8dab-aca37e9ef062')\"\n",
              "            title=\"Convert this dataframe to an interactive table.\"\n",
              "            style=\"display:none;\">\n",
              "\n",
              "  <svg xmlns=\"http://www.w3.org/2000/svg\" height=\"24px\" viewBox=\"0 -960 960 960\">\n",
              "    <path d=\"M120-120v-720h720v720H120Zm60-500h600v-160H180v160Zm220 220h160v-160H400v160Zm0 220h160v-160H400v160ZM180-400h160v-160H180v160Zm440 0h160v-160H620v160ZM180-180h160v-160H180v160Zm440 0h160v-160H620v160Z\"/>\n",
              "  </svg>\n",
              "    </button>\n",
              "\n",
              "  <style>\n",
              "    .colab-df-container {\n",
              "      display:flex;\n",
              "      gap: 12px;\n",
              "    }\n",
              "\n",
              "    .colab-df-convert {\n",
              "      background-color: #E8F0FE;\n",
              "      border: none;\n",
              "      border-radius: 50%;\n",
              "      cursor: pointer;\n",
              "      display: none;\n",
              "      fill: #1967D2;\n",
              "      height: 32px;\n",
              "      padding: 0 0 0 0;\n",
              "      width: 32px;\n",
              "    }\n",
              "\n",
              "    .colab-df-convert:hover {\n",
              "      background-color: #E2EBFA;\n",
              "      box-shadow: 0px 1px 2px rgba(60, 64, 67, 0.3), 0px 1px 3px 1px rgba(60, 64, 67, 0.15);\n",
              "      fill: #174EA6;\n",
              "    }\n",
              "\n",
              "    .colab-df-buttons div {\n",
              "      margin-bottom: 4px;\n",
              "    }\n",
              "\n",
              "    [theme=dark] .colab-df-convert {\n",
              "      background-color: #3B4455;\n",
              "      fill: #D2E3FC;\n",
              "    }\n",
              "\n",
              "    [theme=dark] .colab-df-convert:hover {\n",
              "      background-color: #434B5C;\n",
              "      box-shadow: 0px 1px 3px 1px rgba(0, 0, 0, 0.15);\n",
              "      filter: drop-shadow(0px 1px 2px rgba(0, 0, 0, 0.3));\n",
              "      fill: #FFFFFF;\n",
              "    }\n",
              "  </style>\n",
              "\n",
              "    <script>\n",
              "      const buttonEl =\n",
              "        document.querySelector('#df-50fb5d97-8eeb-45e8-8dab-aca37e9ef062 button.colab-df-convert');\n",
              "      buttonEl.style.display =\n",
              "        google.colab.kernel.accessAllowed ? 'block' : 'none';\n",
              "\n",
              "      async function convertToInteractive(key) {\n",
              "        const element = document.querySelector('#df-50fb5d97-8eeb-45e8-8dab-aca37e9ef062');\n",
              "        const dataTable =\n",
              "          await google.colab.kernel.invokeFunction('convertToInteractive',\n",
              "                                                    [key], {});\n",
              "        if (!dataTable) return;\n",
              "\n",
              "        const docLinkHtml = 'Like what you see? Visit the ' +\n",
              "          '<a target=\"_blank\" href=https://colab.research.google.com/notebooks/data_table.ipynb>data table notebook</a>'\n",
              "          + ' to learn more about interactive tables.';\n",
              "        element.innerHTML = '';\n",
              "        dataTable['output_type'] = 'display_data';\n",
              "        await google.colab.output.renderOutput(dataTable, element);\n",
              "        const docLink = document.createElement('div');\n",
              "        docLink.innerHTML = docLinkHtml;\n",
              "        element.appendChild(docLink);\n",
              "      }\n",
              "    </script>\n",
              "  </div>\n",
              "\n",
              "\n",
              "<div id=\"df-cf7e05b7-68d7-4e39-884e-98bff37bddfe\">\n",
              "  <button class=\"colab-df-quickchart\" onclick=\"quickchart('df-cf7e05b7-68d7-4e39-884e-98bff37bddfe')\"\n",
              "            title=\"Suggest charts\"\n",
              "            style=\"display:none;\">\n",
              "\n",
              "<svg xmlns=\"http://www.w3.org/2000/svg\" height=\"24px\"viewBox=\"0 0 24 24\"\n",
              "     width=\"24px\">\n",
              "    <g>\n",
              "        <path d=\"M19 3H5c-1.1 0-2 .9-2 2v14c0 1.1.9 2 2 2h14c1.1 0 2-.9 2-2V5c0-1.1-.9-2-2-2zM9 17H7v-7h2v7zm4 0h-2V7h2v10zm4 0h-2v-4h2v4z\"/>\n",
              "    </g>\n",
              "</svg>\n",
              "  </button>\n",
              "\n",
              "<style>\n",
              "  .colab-df-quickchart {\n",
              "      --bg-color: #E8F0FE;\n",
              "      --fill-color: #1967D2;\n",
              "      --hover-bg-color: #E2EBFA;\n",
              "      --hover-fill-color: #174EA6;\n",
              "      --disabled-fill-color: #AAA;\n",
              "      --disabled-bg-color: #DDD;\n",
              "  }\n",
              "\n",
              "  [theme=dark] .colab-df-quickchart {\n",
              "      --bg-color: #3B4455;\n",
              "      --fill-color: #D2E3FC;\n",
              "      --hover-bg-color: #434B5C;\n",
              "      --hover-fill-color: #FFFFFF;\n",
              "      --disabled-bg-color: #3B4455;\n",
              "      --disabled-fill-color: #666;\n",
              "  }\n",
              "\n",
              "  .colab-df-quickchart {\n",
              "    background-color: var(--bg-color);\n",
              "    border: none;\n",
              "    border-radius: 50%;\n",
              "    cursor: pointer;\n",
              "    display: none;\n",
              "    fill: var(--fill-color);\n",
              "    height: 32px;\n",
              "    padding: 0;\n",
              "    width: 32px;\n",
              "  }\n",
              "\n",
              "  .colab-df-quickchart:hover {\n",
              "    background-color: var(--hover-bg-color);\n",
              "    box-shadow: 0 1px 2px rgba(60, 64, 67, 0.3), 0 1px 3px 1px rgba(60, 64, 67, 0.15);\n",
              "    fill: var(--button-hover-fill-color);\n",
              "  }\n",
              "\n",
              "  .colab-df-quickchart-complete:disabled,\n",
              "  .colab-df-quickchart-complete:disabled:hover {\n",
              "    background-color: var(--disabled-bg-color);\n",
              "    fill: var(--disabled-fill-color);\n",
              "    box-shadow: none;\n",
              "  }\n",
              "\n",
              "  .colab-df-spinner {\n",
              "    border: 2px solid var(--fill-color);\n",
              "    border-color: transparent;\n",
              "    border-bottom-color: var(--fill-color);\n",
              "    animation:\n",
              "      spin 1s steps(1) infinite;\n",
              "  }\n",
              "\n",
              "  @keyframes spin {\n",
              "    0% {\n",
              "      border-color: transparent;\n",
              "      border-bottom-color: var(--fill-color);\n",
              "      border-left-color: var(--fill-color);\n",
              "    }\n",
              "    20% {\n",
              "      border-color: transparent;\n",
              "      border-left-color: var(--fill-color);\n",
              "      border-top-color: var(--fill-color);\n",
              "    }\n",
              "    30% {\n",
              "      border-color: transparent;\n",
              "      border-left-color: var(--fill-color);\n",
              "      border-top-color: var(--fill-color);\n",
              "      border-right-color: var(--fill-color);\n",
              "    }\n",
              "    40% {\n",
              "      border-color: transparent;\n",
              "      border-right-color: var(--fill-color);\n",
              "      border-top-color: var(--fill-color);\n",
              "    }\n",
              "    60% {\n",
              "      border-color: transparent;\n",
              "      border-right-color: var(--fill-color);\n",
              "    }\n",
              "    80% {\n",
              "      border-color: transparent;\n",
              "      border-right-color: var(--fill-color);\n",
              "      border-bottom-color: var(--fill-color);\n",
              "    }\n",
              "    90% {\n",
              "      border-color: transparent;\n",
              "      border-bottom-color: var(--fill-color);\n",
              "    }\n",
              "  }\n",
              "</style>\n",
              "\n",
              "  <script>\n",
              "    async function quickchart(key) {\n",
              "      const quickchartButtonEl =\n",
              "        document.querySelector('#' + key + ' button');\n",
              "      quickchartButtonEl.disabled = true;  // To prevent multiple clicks.\n",
              "      quickchartButtonEl.classList.add('colab-df-spinner');\n",
              "      try {\n",
              "        const charts = await google.colab.kernel.invokeFunction(\n",
              "            'suggestCharts', [key], {});\n",
              "      } catch (error) {\n",
              "        console.error('Error during call to suggestCharts:', error);\n",
              "      }\n",
              "      quickchartButtonEl.classList.remove('colab-df-spinner');\n",
              "      quickchartButtonEl.classList.add('colab-df-quickchart-complete');\n",
              "    }\n",
              "    (() => {\n",
              "      let quickchartButtonEl =\n",
              "        document.querySelector('#df-cf7e05b7-68d7-4e39-884e-98bff37bddfe button');\n",
              "      quickchartButtonEl.style.display =\n",
              "        google.colab.kernel.accessAllowed ? 'block' : 'none';\n",
              "    })();\n",
              "  </script>\n",
              "</div>\n",
              "\n",
              "  <div id=\"id_2edecc2b-549b-4fc9-95a2-78e6cc5f865a\">\n",
              "    <style>\n",
              "      .colab-df-generate {\n",
              "        background-color: #E8F0FE;\n",
              "        border: none;\n",
              "        border-radius: 50%;\n",
              "        cursor: pointer;\n",
              "        display: none;\n",
              "        fill: #1967D2;\n",
              "        height: 32px;\n",
              "        padding: 0 0 0 0;\n",
              "        width: 32px;\n",
              "      }\n",
              "\n",
              "      .colab-df-generate:hover {\n",
              "        background-color: #E2EBFA;\n",
              "        box-shadow: 0px 1px 2px rgba(60, 64, 67, 0.3), 0px 1px 3px 1px rgba(60, 64, 67, 0.15);\n",
              "        fill: #174EA6;\n",
              "      }\n",
              "\n",
              "      [theme=dark] .colab-df-generate {\n",
              "        background-color: #3B4455;\n",
              "        fill: #D2E3FC;\n",
              "      }\n",
              "\n",
              "      [theme=dark] .colab-df-generate:hover {\n",
              "        background-color: #434B5C;\n",
              "        box-shadow: 0px 1px 3px 1px rgba(0, 0, 0, 0.15);\n",
              "        filter: drop-shadow(0px 1px 2px rgba(0, 0, 0, 0.3));\n",
              "        fill: #FFFFFF;\n",
              "      }\n",
              "    </style>\n",
              "    <button class=\"colab-df-generate\" onclick=\"generateWithVariable('different_values')\"\n",
              "            title=\"Generate code using this dataframe.\"\n",
              "            style=\"display:none;\">\n",
              "\n",
              "  <svg xmlns=\"http://www.w3.org/2000/svg\" height=\"24px\"viewBox=\"0 0 24 24\"\n",
              "       width=\"24px\">\n",
              "    <path d=\"M7,19H8.4L18.45,9,17,7.55,7,17.6ZM5,21V16.75L18.45,3.32a2,2,0,0,1,2.83,0l1.4,1.43a1.91,1.91,0,0,1,.58,1.4,1.91,1.91,0,0,1-.58,1.4L9.25,21ZM18.45,9,17,7.55Zm-12,3A5.31,5.31,0,0,0,4.9,8.1,5.31,5.31,0,0,0,1,6.5,5.31,5.31,0,0,0,4.9,4.9,5.31,5.31,0,0,0,6.5,1,5.31,5.31,0,0,0,8.1,4.9,5.31,5.31,0,0,0,12,6.5,5.46,5.46,0,0,0,6.5,12Z\"/>\n",
              "  </svg>\n",
              "    </button>\n",
              "    <script>\n",
              "      (() => {\n",
              "      const buttonEl =\n",
              "        document.querySelector('#id_2edecc2b-549b-4fc9-95a2-78e6cc5f865a button.colab-df-generate');\n",
              "      buttonEl.style.display =\n",
              "        google.colab.kernel.accessAllowed ? 'block' : 'none';\n",
              "\n",
              "      buttonEl.onclick = () => {\n",
              "        google.colab.notebook.generateWithVariable('different_values');\n",
              "      }\n",
              "      })();\n",
              "    </script>\n",
              "  </div>\n",
              "\n",
              "    </div>\n",
              "  </div>\n"
            ]
          },
          "metadata": {},
          "execution_count": 67
        }
      ]
    },
    {
      "cell_type": "code",
      "source": [
        "has_invalid_date = pd.to_datetime(df16['Set_Date'], errors='coerce').isna()\n",
        "\n",
        "if has_invalid_date.any():\n",
        "    print(\"The  variable has invalid dates, including '2016-02-30'.\")\n",
        "else:\n",
        "    print(\"The  variable does not have invalid dates.\")"
      ],
      "metadata": {
        "colab": {
          "base_uri": "https://localhost:8080/"
        },
        "id": "MvQrKnPozbrh",
        "outputId": "04b8809e-46ad-4b46-a340-0f7e7ca3e1e6"
      },
      "execution_count": 54,
      "outputs": [
        {
          "output_type": "stream",
          "name": "stdout",
          "text": [
            "The  variable has invalid dates, including '2016-02-30'.\n"
          ]
        }
      ]
    },
    {
      "cell_type": "code",
      "source": [
        "record = df16.iloc[11688]\n",
        "\n",
        "# Print the result\n",
        "print(record)"
      ],
      "metadata": {
        "colab": {
          "base_uri": "https://localhost:8080/"
        },
        "id": "LDhOxMfK03DP",
        "outputId": "601e1d5a-5ed6-4205-e9af-28b386dd115c"
      },
      "execution_count": 68,
      "outputs": [
        {
          "output_type": "stream",
          "name": "stdout",
          "text": [
            "X                                                    58823\n",
            "X2016_tbldailycatchrecordext_Rec_No         LB152458A-02-A\n",
            "Catch_Type                                        longline\n",
            "Month                                                    4\n",
            "Date_Of_Set                                             17\n",
            "StartTime                                              400\n",
            "EndTime                                                  0\n",
            "Latitude                                           N014 26\n",
            "Longetude                                          E086 21\n",
            "Total_Length_of_Net                                    NaN\n",
            "Mesh_Size                                              0.0\n",
            "Depth_Net_Set                                          0.0\n",
            "Height_of_net                                          0.0\n",
            "FADType                                                NaN\n",
            "GillNetLen                                             0.0\n",
            "BranchLine_Len                                       21/30\n",
            "Hooks_Between                                            3\n",
            "Total_Hooks                                            260\n",
            "Type_of_Bait                                   FLYING FISH\n",
            "Remarks                                                NaN\n",
            "Rec_Date                                         6/23/2016\n",
            "EndLatitude                                            NaN\n",
            "EndLongetude                                           NaN\n",
            "zone                                             HIGH SEAS\n",
            "Date_set                               2016-04-17 00:00:00\n",
            "Lat                                                N014 26\n",
            "Long                                               E086 21\n",
            "Fish_Name                                   Yellowfin tuna\n",
            "KG                                                    60.0\n",
            "Amount                                                 2.0\n",
            "Log_Book_No                                      LB152458A\n",
            "Boat_No                                       IMULA0482CHW\n",
            "Departure_Port                                    Beruwala\n",
            "Departure_Date                                    4/7/2016\n",
            "Arrival_Port                                      Beruwala\n",
            "Arrival_date                                     5/12/2016\n",
            "lat                                                   14.5\n",
            "lon                                                  86.25\n",
            "fdate                                  2016-04-17 00:00:00\n",
            "latd                                              14.43333\n",
            "lond                                                 86.35\n",
            "Year                                                  2016\n",
            "Set_Date                               2016-04-17 00:00:00\n",
            "Name: 58814, dtype: object\n"
          ]
        }
      ]
    },
    {
      "cell_type": "code",
      "source": [
        "df16.drop(['X', 'Catch_Type', 'StartTime', 'EndTime','Total_Length_of_Net', 'Mesh_Size',\n",
        "           'Depth_Net_Set' , 'Height_of_net', 'FADType', 'GillNetLen', 'BranchLine_Len',\n",
        "           'Hooks_Between', 'Remarks','EndLatitude', 'EndLongetude', 'Date_set',\n",
        "           'Fish_Name', 'Log_Book_No'], axis=1, inplace=True)"
      ],
      "metadata": {
        "id": "9mwOnqj4SHNb"
      },
      "execution_count": 71,
      "outputs": []
    },
    {
      "cell_type": "code",
      "source": [
        "df16.info()"
      ],
      "metadata": {
        "colab": {
          "base_uri": "https://localhost:8080/"
        },
        "id": "e_I1Z0neTdmn",
        "outputId": "25052b08-eb1f-4c77-d7b3-fdf761a0653c"
      },
      "execution_count": 72,
      "outputs": [
        {
          "output_type": "stream",
          "name": "stdout",
          "text": [
            "<class 'pandas.core.frame.DataFrame'>\n",
            "Int64Index: 36829 entries, 1 to 193496\n",
            "Data columns (total 25 columns):\n",
            " #   Column                               Non-Null Count  Dtype         \n",
            "---  ------                               --------------  -----         \n",
            " 0   X2016_tbldailycatchrecordext_Rec_No  36829 non-null  object        \n",
            " 1   Month                                36829 non-null  int64         \n",
            " 2   Date_Of_Set                          36829 non-null  int64         \n",
            " 3   Latitude                             36829 non-null  object        \n",
            " 4   Longetude                            36829 non-null  object        \n",
            " 5   Total_Hooks                          36829 non-null  int64         \n",
            " 6   Type_of_Bait                         21101 non-null  object        \n",
            " 7   Rec_Date                             36829 non-null  object        \n",
            " 8   zone                                 36825 non-null  object        \n",
            " 9   Lat                                  36829 non-null  object        \n",
            " 10  Long                                 36829 non-null  object        \n",
            " 11  KG                                   36829 non-null  float64       \n",
            " 12  Amount                               36829 non-null  float64       \n",
            " 13  Boat_No                              36829 non-null  object        \n",
            " 14  Departure_Port                       36829 non-null  object        \n",
            " 15  Departure_Date                       36829 non-null  object        \n",
            " 16  Arrival_Port                         36829 non-null  object        \n",
            " 17  Arrival_date                         36829 non-null  object        \n",
            " 18  lat                                  36829 non-null  float64       \n",
            " 19  lon                                  36829 non-null  float64       \n",
            " 20  fdate                                36829 non-null  datetime64[ns]\n",
            " 21  latd                                 36829 non-null  float64       \n",
            " 22  lond                                 36829 non-null  float64       \n",
            " 23  Year                                 36829 non-null  int64         \n",
            " 24  Set_Date                             36766 non-null  datetime64[ns]\n",
            "dtypes: datetime64[ns](2), float64(6), int64(4), object(13)\n",
            "memory usage: 7.3+ MB\n"
          ]
        }
      ]
    },
    {
      "cell_type": "code",
      "source": [
        "df16.drop(['Rec_Date', 'Lat', 'Long', 'lat','lon', 'fdate',\n",
        "           'latd' , 'lond'], axis=1, inplace=True)"
      ],
      "metadata": {
        "id": "nAmP1LjbTulu"
      },
      "execution_count": 73,
      "outputs": []
    },
    {
      "cell_type": "code",
      "source": [
        "df16.rename(columns={'X2016_tbldailycatchrecordext_Rec_No': 'Rec_No', 'Date_Of_Set': 'Day'}, inplace=True)"
      ],
      "metadata": {
        "id": "p8mUWstrUG0l"
      },
      "execution_count": 74,
      "outputs": []
    },
    {
      "cell_type": "code",
      "source": [
        "df16.info()"
      ],
      "metadata": {
        "colab": {
          "base_uri": "https://localhost:8080/"
        },
        "id": "lzg7P7BaUpPe",
        "outputId": "f071de63-4ef6-42f8-d56f-97e0ca0b7c46"
      },
      "execution_count": 75,
      "outputs": [
        {
          "output_type": "stream",
          "name": "stdout",
          "text": [
            "<class 'pandas.core.frame.DataFrame'>\n",
            "Int64Index: 36829 entries, 1 to 193496\n",
            "Data columns (total 17 columns):\n",
            " #   Column          Non-Null Count  Dtype         \n",
            "---  ------          --------------  -----         \n",
            " 0   Rec_No          36829 non-null  object        \n",
            " 1   Month           36829 non-null  int64         \n",
            " 2   Day             36829 non-null  int64         \n",
            " 3   Latitude        36829 non-null  object        \n",
            " 4   Longetude       36829 non-null  object        \n",
            " 5   Total_Hooks     36829 non-null  int64         \n",
            " 6   Type_of_Bait    21101 non-null  object        \n",
            " 7   zone            36825 non-null  object        \n",
            " 8   KG              36829 non-null  float64       \n",
            " 9   Amount          36829 non-null  float64       \n",
            " 10  Boat_No         36829 non-null  object        \n",
            " 11  Departure_Port  36829 non-null  object        \n",
            " 12  Departure_Date  36829 non-null  object        \n",
            " 13  Arrival_Port    36829 non-null  object        \n",
            " 14  Arrival_date    36829 non-null  object        \n",
            " 15  Year            36829 non-null  int64         \n",
            " 16  Set_Date        36766 non-null  datetime64[ns]\n",
            "dtypes: datetime64[ns](1), float64(2), int64(4), object(10)\n",
            "memory usage: 5.1+ MB\n"
          ]
        }
      ]
    },
    {
      "cell_type": "code",
      "source": [
        "duplicate_rows = df16[df16.duplicated()]\n",
        "\n",
        "if not duplicate_rows.empty:\n",
        "    print(\"Duplicate rows:\")\n",
        "    print(duplicate_rows)\n",
        "else:\n",
        "    print(\"No duplicate rows found.\")"
      ],
      "metadata": {
        "colab": {
          "base_uri": "https://localhost:8080/"
        },
        "id": "NMSfz1RlUsBW",
        "outputId": "f555fe97-761a-4ccf-813c-ee3dbbcbad83"
      },
      "execution_count": 112,
      "outputs": [
        {
          "output_type": "stream",
          "name": "stdout",
          "text": [
            "Duplicate rows:\n",
            "                Rec_No  Month  Day Latitude Longetude  Total_Hooks  \\\n",
            "8518    LB152425A-03-A      1   25  N011 20   E083 11          400   \n",
            "8519    LB152425A-03-A      1   25  N011 20   E083 11          400   \n",
            "8520    LB152425A-03-A      1   28  N011 49   E085 11          400   \n",
            "8521    LB152425A-03-A      1   28  N011 49   E085 11          400   \n",
            "8525    LB152425A-03-A      1   30  N013 17   E086 47          400   \n",
            "...                ...    ...  ...      ...       ...          ...   \n",
            "138456  LB151723A-05-A      8    2  N005 30   E079 40          200   \n",
            "138457  LB151723A-05-A      8    4  N005 41   E079 13          200   \n",
            "138458  LB151723A-05-A      8    6  N005 43   E078 19          200   \n",
            "138459  LB151723A-05-A      8    6  N005 43   E078 19          200   \n",
            "138460  LB151723A-05-A      8    6  N005 43   E078 19          200   \n",
            "\n",
            "       Type_of_Bait       zone     KG  Amount       Boat_No Departure_Port  \\\n",
            "8518    FLYING FISH        EEZ   60.0     2.0  IMULA0492KLT       Beruwala   \n",
            "8519    FLYING FISH        EEZ   60.0     2.0  IMULA0492KLT        Cod Bay   \n",
            "8520    FLYING FISH  HIGH SEAS  130.0     3.0  IMULA0492KLT       Beruwala   \n",
            "8521    FLYING FISH  HIGH SEAS  130.0     3.0  IMULA0492KLT        Cod Bay   \n",
            "8525    FLYING FISH  HIGH SEAS   40.0     1.0  IMULA0492KLT       Beruwala   \n",
            "...             ...        ...    ...     ...           ...            ...   \n",
            "138456          NaN        EEZ  150.0     3.0  IMULA0786MTR     Devinuwara   \n",
            "138457          NaN        EEZ   90.0     2.0  IMULA0786MTR     Devinuwara   \n",
            "138458          NaN        EEZ   60.0     1.0  IMULA0786MTR     Devinuwara   \n",
            "138459          NaN        EEZ   60.0     1.0  IMULA0786MTR     Devinuwara   \n",
            "138460          NaN        EEZ   60.0     1.0  IMULA0786MTR     Devinuwara   \n",
            "\n",
            "       Departure_Date Arrival_Port Arrival_date  Year   Set_Date  Is_In_Range  \n",
            "8518       2016-05-28     Beruwala   2016-06-26  2016 2016-01-25        False  \n",
            "8519       2016-01-22     Beruwala   2016-02-25  2016 2016-01-25         True  \n",
            "8520       2016-05-28     Beruwala   2016-06-26  2016 2016-01-28        False  \n",
            "8521       2016-01-22     Beruwala   2016-02-25  2016 2016-01-28         True  \n",
            "8525       2016-05-28     Beruwala   2016-06-26  2016 2016-01-30        False  \n",
            "...               ...          ...          ...   ...        ...          ...  \n",
            "138456     2016-07-31   Devinuwara   2016-08-17  2016 2016-08-02         True  \n",
            "138457     2016-10-20   Devinuwara   2016-06-07  2016 2016-08-04        False  \n",
            "138458     2016-10-20   Devinuwara   2016-06-07  2016 2016-08-06        False  \n",
            "138459     2016-07-31   Devinuwara   2016-08-18  2016 2016-08-06         True  \n",
            "138460     2016-07-31   Devinuwara   2016-08-17  2016 2016-08-06         True  \n",
            "\n",
            "[61 rows x 18 columns]\n"
          ]
        }
      ]
    },
    {
      "cell_type": "code",
      "source": [
        "df16= df16.drop_duplicates()"
      ],
      "metadata": {
        "id": "8JTmlOltU9ee"
      },
      "execution_count": 113,
      "outputs": []
    },
    {
      "cell_type": "code",
      "source": [
        "df16['Departure_Date'] = pd.to_datetime(df16['Departure_Date'])"
      ],
      "metadata": {
        "id": "1YwCBKF6ViUF"
      },
      "execution_count": 80,
      "outputs": []
    },
    {
      "cell_type": "code",
      "source": [
        "df16['Arrival_date'] = pd.to_datetime(df16['Arrival_date'])\n",
        "df16['Set_Date'] = pd.to_datetime(df16['Set_Date'])\n",
        "\n",
        "# Conditionally update 'Date_set' and 'Year'\n",
        "mask = (df16['Arrival_date'] >= '2017-01-01') & (df16['Set_Date'] <= '2016-01-31')\n",
        "df16.loc[mask, 'Set_Date'] = df16.loc[mask, 'Set_Date'] + pd.DateOffset(years=1)\n",
        "df16.loc[mask, 'Year'] = 2017"
      ],
      "metadata": {
        "id": "N5ur7U5t71Lo"
      },
      "execution_count": 79,
      "outputs": []
    },
    {
      "cell_type": "code",
      "source": [
        "# Check if 'Set_Date' is within the range of 'Arrival_Date' and 'Departure_Date'\n",
        "df16['Is_In_Range'] = (df16['Set_Date'] <= df16['Arrival_date']) & (df16['Set_Date'] >= df16['Departure_Date'])\n",
        "\n",
        "# Print rows where 'Set_Date' is not in the range\n",
        "invalid_set_dates = df16[~df16['Is_In_Range']]\n",
        "print(\"Rows where 'Set_Date' is not in the range of 'Arrival_Date' and 'Departure_Date':\")\n",
        "print(invalid_set_dates)"
      ],
      "metadata": {
        "colab": {
          "base_uri": "https://localhost:8080/"
        },
        "id": "stJf9H1y5kzb",
        "outputId": "25d3af02-c718-47b0-b5c2-ba21fc91315f"
      },
      "execution_count": 114,
      "outputs": [
        {
          "output_type": "stream",
          "name": "stdout",
          "text": [
            "Rows where 'Set_Date' is not in the range of 'Arrival_Date' and 'Departure_Date':\n",
            "                Rec_No  Month  Day Latitude Longetude  Total_Hooks  \\\n",
            "1       LB150548A-01-A      1   21  N009 35   E084 30          750   \n",
            "11      LB150462A-02-A     10   29  N001 54   E069 27          900   \n",
            "217     LB150689A-01-A      1   23  N012 09   E085 15          450   \n",
            "221     LB150689A-01-A      1   23  N012 09   E085 15          450   \n",
            "227     LB150689A-01-A      1   25  N012 48   E085 54          450   \n",
            "...                ...    ...  ...      ...       ...          ...   \n",
            "193305  LB150024A-07-A     11   21  N008 10   E081 50          200   \n",
            "193306  LB150024A-07-A     11   22  N008 10   E081 50            0   \n",
            "193307  LB150024A-07-A     11   23  N008 10   E081 50            0   \n",
            "193308  LB150024A-07-A     11   26  N008 10   E081 50            0   \n",
            "193309  LB150024A-07-A     11   29  N008 10   E081 50            0   \n",
            "\n",
            "       Type_of_Bait                zone     KG  Amount       Boat_No  \\\n",
            "1        ARTIFICIAL                 EEZ   45.0     2.0  IMULA0476CHW   \n",
            "11            SCADE  HIGH SEAS MARGINAL  150.0     4.0  IMULA0238CHW   \n",
            "217      ARTIFICIAL           HIGH SEAS  215.0     2.0  IMULA0704MTR   \n",
            "221      ARTIFICIAL           HIGH SEAS  215.0     2.0  IMULA0704MTR   \n",
            "227      ARTIFICIAL           HIGH SEAS  470.0     8.0  IMULA0704MTR   \n",
            "...             ...                 ...    ...     ...           ...   \n",
            "193305        LINNA                 EEZ  300.0    10.0  IMULA0876TLE   \n",
            "193306          NaN                 EEZ  450.0    13.0  IMULA0876TLE   \n",
            "193307          NaN                 EEZ  480.0    16.0  IMULA0876TLE   \n",
            "193308          NaN                 EEZ   90.0     3.0  IMULA0876TLE   \n",
            "193309          NaN                 EEZ   20.0     1.0  IMULA0876TLE   \n",
            "\n",
            "       Departure_Port Departure_Date Arrival_Port Arrival_date  Year  \\\n",
            "1             Negombo     2016-01-24      Cod Bay   2016-02-25  2016   \n",
            "11           Dikowita     2016-01-13     Dikowita   2016-02-17  2016   \n",
            "217        Devinuwara     2016-05-07      Colombo   2016-05-13  2016   \n",
            "221        Devinuwara     2016-01-05   Devinuwara   2016-01-13  2016   \n",
            "227        Devinuwara     2016-05-07      Colombo   2016-05-13  2016   \n",
            "...               ...            ...          ...          ...   ...   \n",
            "193305        Cod Bay     2016-12-20    Kudawella   2016-12-25  2016   \n",
            "193306        Cod Bay     2016-12-20    Kudawella   2016-12-25  2016   \n",
            "193307        Cod Bay     2016-12-20    Kudawella   2016-12-25  2016   \n",
            "193308        Cod Bay     2016-12-20    Kudawella   2016-12-25  2016   \n",
            "193309        Cod Bay     2016-12-20    Kudawella   2016-12-25  2016   \n",
            "\n",
            "         Set_Date  Is_In_Range  \n",
            "1      2016-01-21        False  \n",
            "11     2016-10-29        False  \n",
            "217    2016-01-23        False  \n",
            "221    2016-01-23        False  \n",
            "227    2016-01-25        False  \n",
            "...           ...          ...  \n",
            "193305 2016-11-21        False  \n",
            "193306 2016-11-22        False  \n",
            "193307 2016-11-23        False  \n",
            "193308 2016-11-26        False  \n",
            "193309 2016-11-29        False  \n",
            "\n",
            "[5015 rows x 18 columns]\n"
          ]
        },
        {
          "output_type": "stream",
          "name": "stderr",
          "text": [
            "<ipython-input-114-395b063ae06e>:2: SettingWithCopyWarning: \n",
            "A value is trying to be set on a copy of a slice from a DataFrame.\n",
            "Try using .loc[row_indexer,col_indexer] = value instead\n",
            "\n",
            "See the caveats in the documentation: https://pandas.pydata.org/pandas-docs/stable/user_guide/indexing.html#returning-a-view-versus-a-copy\n",
            "  df16['Is_In_Range'] = (df16['Set_Date'] <= df16['Arrival_date']) & (df16['Set_Date'] >= df16['Departure_Date'])\n"
          ]
        }
      ]
    },
    {
      "cell_type": "markdown",
      "source": [
        "2017"
      ],
      "metadata": {
        "id": "zp0LYi8k97qT"
      }
    },
    {
      "cell_type": "code",
      "source": [
        "df17.info()"
      ],
      "metadata": {
        "colab": {
          "base_uri": "https://localhost:8080/"
        },
        "id": "BKxlhrkY987L",
        "outputId": "32ed10ba-8a4b-4a17-b81c-86d93c5a3135"
      },
      "execution_count": 83,
      "outputs": [
        {
          "output_type": "stream",
          "name": "stdout",
          "text": [
            "<class 'pandas.core.frame.DataFrame'>\n",
            "RangeIndex: 475117 entries, 0 to 475116\n",
            "Data columns (total 29 columns):\n",
            " #   Column               Non-Null Count   Dtype         \n",
            "---  ------               --------------   -----         \n",
            " 0   LB NUMBER            475117 non-null  object        \n",
            " 1   GEAR                 475117 non-null  object        \n",
            " 2   Month                475117 non-null  int64         \n",
            " 3   Date                 475117 non-null  int64         \n",
            " 4   LONGI                475117 non-null  object        \n",
            " 5   LATTI                475117 non-null  object        \n",
            " 6   Net Len              25904 non-null   object        \n",
            " 7   Mesh Size            475117 non-null  float64       \n",
            " 8   Depth Net            475117 non-null  float64       \n",
            " 9   Height Net           475117 non-null  int64         \n",
            " 10  FAD type             25904 non-null   object        \n",
            " 11  Gill Net len         475117 non-null  int64         \n",
            " 12  Branch Line Len GHT  236737 non-null  object        \n",
            " 13  Hook between         475117 non-null  int64         \n",
            " 14  Total Hooks          475117 non-null  int64         \n",
            " 15  BAIT                 236737 non-null  object        \n",
            " 16  Remarks              1692 non-null    object        \n",
            " 17  Record Date          475117 non-null  datetime64[ns]\n",
            " 18  AREA                 475098 non-null  object        \n",
            " 19  Grid 5               475117 non-null  int64         \n",
            " 20  Grid 1               475117 non-null  int64         \n",
            " 21  CATCH                475117 non-null  object        \n",
            " 22  KG                   475117 non-null  float64       \n",
            " 23  QTY                  475117 non-null  float64       \n",
            " 24  REG NUM              475117 non-null  object        \n",
            " 25  ARRIVAL DATE         475117 non-null  datetime64[ns]\n",
            " 26  DEPARTURE DATE       475117 non-null  datetime64[ns]\n",
            " 27  ARRIVAL PORT         475117 non-null  object        \n",
            " 28  DEPARTURE PORT       475117 non-null  object        \n",
            "dtypes: datetime64[ns](3), float64(4), int64(8), object(14)\n",
            "memory usage: 105.1+ MB\n"
          ]
        }
      ]
    },
    {
      "cell_type": "code",
      "source": [
        "df17['GEAR'].value_counts()"
      ],
      "metadata": {
        "colab": {
          "base_uri": "https://localhost:8080/"
        },
        "id": "Lxb3pBv4-q8h",
        "outputId": "827d964f-a394-4136-e6d8-b3ca9736d233"
      },
      "execution_count": 38,
      "outputs": [
        {
          "output_type": "execute_result",
          "data": {
            "text/plain": [
              "longline                                                                                              236737\n",
              "gillnets                                                                                              212476\n",
              "ringnet                                                                                                25904\n",
              "Name: GEAR, dtype: int64"
            ]
          },
          "metadata": {},
          "execution_count": 38
        }
      ]
    },
    {
      "cell_type": "code",
      "source": [
        "df17['CATCH'].value_counts()"
      ],
      "metadata": {
        "colab": {
          "base_uri": "https://localhost:8080/"
        },
        "id": "NwGMvdlT-W_s",
        "outputId": "2e69d9d7-c902-4db2-898a-11022e67004d"
      },
      "execution_count": 37,
      "outputs": [
        {
          "output_type": "execute_result",
          "data": {
            "text/plain": [
              "Yellowfin tuna                                                                                        121866\n",
              "Skipjack tuna                                                                                         106223\n",
              "Sword fish                                                                                             51163\n",
              "Sail fish                                                                                              36045\n",
              "Bigeye tuna                                                                                            27880\n",
              "                                                                                                       ...  \n",
              "BADAWA                                                                                                     6\n",
              "Vaniliya                                                                                                   4\n",
              "PALLA MACHLI                                                                                               4\n",
              "SEA VIRAL                                                                                                  3\n",
              "BAYITA                                                                                                     2\n",
              "Name: CATCH, Length: 65, dtype: int64"
            ]
          },
          "metadata": {},
          "execution_count": 37
        }
      ]
    },
    {
      "cell_type": "code",
      "source": [
        "df17['GEAR'] = df17['GEAR'].str.strip()"
      ],
      "metadata": {
        "id": "rIe_1PKiW6Wq"
      },
      "execution_count": 94,
      "outputs": []
    },
    {
      "cell_type": "code",
      "source": [
        "df17['CATCH'] = df17['CATCH'].str.strip()"
      ],
      "metadata": {
        "id": "IYiMP7tRW-ZD"
      },
      "execution_count": 98,
      "outputs": []
    },
    {
      "cell_type": "code",
      "source": [
        "df17 = df17[df17['GEAR'] == 'longline']\n",
        "df17 = df17[df17['CATCH'] == 'Yellowfin tuna']"
      ],
      "metadata": {
        "id": "jJQ72dyD-ctI"
      },
      "execution_count": 99,
      "outputs": []
    },
    {
      "cell_type": "code",
      "source": [
        "df17.info()"
      ],
      "metadata": {
        "colab": {
          "base_uri": "https://localhost:8080/"
        },
        "id": "8etcjO9a-0yP",
        "outputId": "3c5a6549-bf73-4ce5-9584-9487a9148c1c"
      },
      "execution_count": 100,
      "outputs": [
        {
          "output_type": "stream",
          "name": "stdout",
          "text": [
            "<class 'pandas.core.frame.DataFrame'>\n",
            "Int64Index: 100605 entries, 3 to 475115\n",
            "Data columns (total 29 columns):\n",
            " #   Column               Non-Null Count   Dtype         \n",
            "---  ------               --------------   -----         \n",
            " 0   LB NUMBER            100605 non-null  object        \n",
            " 1   GEAR                 100605 non-null  object        \n",
            " 2   Month                100605 non-null  int64         \n",
            " 3   Date                 100605 non-null  int64         \n",
            " 4   LONGI                100605 non-null  object        \n",
            " 5   LATTI                100605 non-null  object        \n",
            " 6   Net Len              0 non-null       object        \n",
            " 7   Mesh Size            100605 non-null  float64       \n",
            " 8   Depth Net            100605 non-null  float64       \n",
            " 9   Height Net           100605 non-null  int64         \n",
            " 10  FAD type             0 non-null       object        \n",
            " 11  Gill Net len         100605 non-null  int64         \n",
            " 12  Branch Line Len GHT  100605 non-null  object        \n",
            " 13  Hook between         100605 non-null  int64         \n",
            " 14  Total Hooks          100605 non-null  int64         \n",
            " 15  BAIT                 100605 non-null  object        \n",
            " 16  Remarks              81 non-null      object        \n",
            " 17  Record Date          100605 non-null  datetime64[ns]\n",
            " 18  AREA                 100602 non-null  object        \n",
            " 19  Grid 5               100605 non-null  int64         \n",
            " 20  Grid 1               100605 non-null  int64         \n",
            " 21  CATCH                100605 non-null  object        \n",
            " 22  KG                   100605 non-null  float64       \n",
            " 23  QTY                  100605 non-null  float64       \n",
            " 24  REG NUM              100605 non-null  object        \n",
            " 25  ARRIVAL DATE         100605 non-null  datetime64[ns]\n",
            " 26  DEPARTURE DATE       100605 non-null  datetime64[ns]\n",
            " 27  ARRIVAL PORT         100605 non-null  object        \n",
            " 28  DEPARTURE PORT       100605 non-null  object        \n",
            "dtypes: datetime64[ns](3), float64(4), int64(8), object(14)\n",
            "memory usage: 23.0+ MB\n"
          ]
        }
      ]
    },
    {
      "cell_type": "code",
      "source": [
        "df17['Year'] = 2017\n",
        "\n",
        "# Combine \"Month\", \"Date_Of_Set\", and \"Year\" to create a new variable \"Set_Date\"\n",
        "df17['Set_Date'] = pd.to_datetime(df17[['Year', 'Month', 'Date']].astype(str).agg(' '.join, axis=1), format='%Y %m %d', errors='coerce')"
      ],
      "metadata": {
        "id": "sygyEwcLYAcy"
      },
      "execution_count": 101,
      "outputs": []
    },
    {
      "cell_type": "code",
      "source": [
        "df17.drop(['GEAR', 'Net Len', 'Mesh Size', 'Depth Net','Height Net', 'FAD type',\n",
        "           'Gill Net len' , 'Branch Line Len GHT', 'Hook between', 'Remarks', 'Record Date',\n",
        "           'Grid 5', 'Grid 1', 'CATCH'\n",
        "           ], axis=1, inplace=True)"
      ],
      "metadata": {
        "id": "tS2c8nZOYVQC"
      },
      "execution_count": 103,
      "outputs": []
    },
    {
      "cell_type": "code",
      "source": [
        "df17.rename(columns={'LB NUMBER': 'Rec_No', 'Date': 'Day', 'LONGI' : 'Latitude', 'LATTI':'Longetude',\n",
        "                     'BAIT' : 'Type_of_Bait', 'AREA':'zone','QTY':'Amount', 'REG NUM':'Boat_No',\n",
        "                     'ARRIVAL DATE': 'Arrival_date', 'DEPARTURE DATE':'Departure_Date', 'ARRIVAL PORT':'Arrival_Port',\n",
        "                     'DEPARTURE PORT':'Departure_Port'}, inplace=True)"
      ],
      "metadata": {
        "id": "oBd3jObkYVQR"
      },
      "execution_count": 104,
      "outputs": []
    },
    {
      "cell_type": "code",
      "source": [
        "df17.rename(columns={'Total Hooks':'Total_Hooks'}, inplace=True)"
      ],
      "metadata": {
        "id": "gLWxTsxdspKP"
      },
      "execution_count": 176,
      "outputs": []
    },
    {
      "cell_type": "code",
      "source": [
        "df17.info()"
      ],
      "metadata": {
        "colab": {
          "base_uri": "https://localhost:8080/"
        },
        "id": "QoG3tMdOaaGT",
        "outputId": "3fe4d1ef-2c16-4db3-91a3-b22da294c4cc"
      },
      "execution_count": 177,
      "outputs": [
        {
          "output_type": "stream",
          "name": "stdout",
          "text": [
            "<class 'pandas.core.frame.DataFrame'>\n",
            "Int64Index: 93316 entries, 3 to 475115\n",
            "Data columns (total 18 columns):\n",
            " #   Column          Non-Null Count  Dtype         \n",
            "---  ------          --------------  -----         \n",
            " 0   Rec_No          93316 non-null  object        \n",
            " 1   Month           93316 non-null  int64         \n",
            " 2   Day             93316 non-null  int64         \n",
            " 3   Latitude        93316 non-null  object        \n",
            " 4   Longetude       93316 non-null  object        \n",
            " 5   Total_Hooks     93316 non-null  int64         \n",
            " 6   Type_of_Bait    93316 non-null  object        \n",
            " 7   zone            93313 non-null  object        \n",
            " 8   KG              93316 non-null  float64       \n",
            " 9   Amount          93316 non-null  float64       \n",
            " 10  Boat_No         93316 non-null  object        \n",
            " 11  Arrival_date    93316 non-null  datetime64[ns]\n",
            " 12  Departure_Date  93316 non-null  datetime64[ns]\n",
            " 13  Arrival_Port    93316 non-null  object        \n",
            " 14  Departure_Port  93316 non-null  object        \n",
            " 15  Year            93316 non-null  int64         \n",
            " 16  Set_Date        93215 non-null  datetime64[ns]\n",
            " 17  Is_In_Range     93316 non-null  bool          \n",
            "dtypes: bool(1), datetime64[ns](3), float64(2), int64(4), object(8)\n",
            "memory usage: 12.9+ MB\n"
          ]
        }
      ]
    },
    {
      "cell_type": "code",
      "source": [
        "df17['Arrival_date'] = pd.to_datetime(df17['Arrival_date'])\n",
        "df17['Set_Date'] = pd.to_datetime(df17['Set_Date'])\n",
        "df17['Departure_Date'] = pd.to_datetime(df17['Departure_Date'])"
      ],
      "metadata": {
        "id": "0gxJxiwaamnK"
      },
      "execution_count": 107,
      "outputs": []
    },
    {
      "cell_type": "code",
      "source": [
        "mask = (df17['Arrival_date'] >= '2018-01-01') & (df17['Set_Date'] <= '2017-01-31')\n",
        "df17.loc[mask, 'Set_Date'] = df17.loc[mask, 'Set_Date'] + pd.DateOffset(years=1)\n",
        "df17.loc[mask, 'Year'] = 2018"
      ],
      "metadata": {
        "id": "HJPnWaLYbS7Q"
      },
      "execution_count": 115,
      "outputs": []
    },
    {
      "cell_type": "code",
      "source": [
        "df17['Is_In_Range'] = (df17['Set_Date'] <= df17['Arrival_date']) & (df17['Set_Date'] >= df17['Departure_Date'])\n",
        "\n",
        "# Print rows where 'Set_Date' is not in the range\n",
        "invalid_set_dates = df17[~df17['Is_In_Range']]\n",
        "print(\"Rows where 'Set_Date' is not in the range of 'Arrival_Date' and 'Departure_Date':\")\n",
        "print(invalid_set_dates)"
      ],
      "metadata": {
        "colab": {
          "base_uri": "https://localhost:8080/"
        },
        "id": "atxZsecOcVOt",
        "outputId": "39fbc841-2210-45d4-b162-60e893a4f869"
      },
      "execution_count": 122,
      "outputs": [
        {
          "output_type": "stream",
          "name": "stdout",
          "text": [
            "Rows where 'Set_Date' is not in the range of 'Arrival_Date' and 'Departure_Date':\n",
            "                                                   Rec_No  Month  Day  \\\n",
            "200     LB170225A-09-A                                ...      6   28   \n",
            "246     LB170816A-02-A                                ...      6   25   \n",
            "291     LB171872A-05-A                                ...      5   26   \n",
            "555     LB171357A-01-A                                ...      1   14   \n",
            "557     LB170808A-11-A                                ...     10   19   \n",
            "...                                                   ...    ...  ...   \n",
            "474760  LB173511A-06-A                                ...      9   17   \n",
            "475037  LB173093A-02-A                                ...     12    1   \n",
            "475039  LB173093A-02-A                                ...     12    1   \n",
            "475067  LB171236A-06-A                                ...      9   21   \n",
            "475069  LB171860A-16-A                                ...      6   26   \n",
            "\n",
            "                                                 Latitude  \\\n",
            "200     N007 52                                       ...   \n",
            "246     N007 50                                       ...   \n",
            "291     N006 11                                       ...   \n",
            "555     N010 22                                       ...   \n",
            "557     N005 43                                       ...   \n",
            "...                                                   ...   \n",
            "474760  N010 10                                       ...   \n",
            "475037  N010 03                                       ...   \n",
            "475039  N010 03                                       ...   \n",
            "475067  N005 40                                       ...   \n",
            "475069  N005 20                                       ...   \n",
            "\n",
            "                                                Longetude  Total Hooks  \\\n",
            "200     E079 28                                       ...          650   \n",
            "246     E081 45                                       ...          250   \n",
            "291     E081 44                                       ...            0   \n",
            "555     E085 08                                       ...            0   \n",
            "557     E080 59                                       ...            0   \n",
            "...                                                   ...          ...   \n",
            "474760  E082 30                                       ...          800   \n",
            "475037  E082 06                                       ...            0   \n",
            "475039  E082 06                                       ...            0   \n",
            "475067  E079 20                                       ...         1000   \n",
            "475069  E079 57                                       ...            0   \n",
            "\n",
            "                                             Type_of_Bait  \\\n",
            "200     DELLA                                         ...   \n",
            "246     LINNA                                         ...   \n",
            "291     NA                                            ...   \n",
            "555     NA                                            ...   \n",
            "557     NA                                            ...   \n",
            "...                                                   ...   \n",
            "474760  PIYAMASSA                                     ...   \n",
            "475037  NA                                            ...   \n",
            "475039  NA                                            ...   \n",
            "475067  SALAYA                                        ...   \n",
            "475069  NA                                            ...   \n",
            "\n",
            "                                                     zone     KG  Amount  \\\n",
            "200     EEZ NA                                        ...   50.0     1.0   \n",
            "246     EEZ NA                                        ...   78.0     1.0   \n",
            "291     EEZ NA                                        ...  120.0     3.0   \n",
            "555     HIGH SEAS NA                                  ...  400.0     8.0   \n",
            "557     EEZ NA                                        ...  170.0     5.0   \n",
            "...                                                   ...    ...     ...   \n",
            "474760  EEZ NA                                        ...  398.0     8.0   \n",
            "475037  EEZ                                           ...  160.0     4.0   \n",
            "475039  EEZ                                           ...  161.0     4.0   \n",
            "475067  EEZ NA                                        ...  150.0     3.0   \n",
            "475069  EEZ NA                                        ...   51.0     1.0   \n",
            "\n",
            "                             Boat_No Arrival_date Departure_Date  \\\n",
            "200     IMULA0146NBO                   2017-07-29     2017-07-15   \n",
            "246     IMULA1230MTR                   2017-03-13     2017-02-23   \n",
            "291     IMULA0473KLT                   2017-06-10     2017-05-28   \n",
            "555     IMULA0689CHW                   2017-08-23     2017-07-27   \n",
            "557     IMULA0999MTR                   2017-01-25     2017-01-03   \n",
            "...                              ...          ...            ...   \n",
            "474760  IMULA0590NBO                   2017-09-03     2017-09-03   \n",
            "475037  IMULA1470MTR                   2017-04-29     2017-03-25   \n",
            "475039  IMULA1470MTR                   2017-04-29     2017-03-25   \n",
            "475067  IMULA0142PTM                   2017-06-30     2017-06-02   \n",
            "475069  IMULA0094TLE                   2017-05-02     2017-05-01   \n",
            "\n",
            "                                            Arrival_Port  \\\n",
            "200     Negombo                                            \n",
            "246     Devinuwara                                         \n",
            "291     Devinuwara                                         \n",
            "555     Valaichchenai                                      \n",
            "557     Devinuwara                                         \n",
            "...                                                  ...   \n",
            "474760  TCO                                                \n",
            "475037  Devinuwara                                         \n",
            "475039  Devinuwara                                         \n",
            "475067  Negombo                                            \n",
            "475069  Devinuwara                                         \n",
            "\n",
            "                                          Departure_Port  Year   Set_Date  \\\n",
            "200     Negombo                                           2017 2017-06-28   \n",
            "246     Devinuwara                                        2017 2017-06-25   \n",
            "291     Devinuwara                                        2017 2017-05-26   \n",
            "555     Valaichchenai                                     2017 2017-01-14   \n",
            "557     Devinuwara                                        2017 2017-10-19   \n",
            "...                                                  ...   ...        ...   \n",
            "474760  TCO                                               2017 2017-09-17   \n",
            "475037  Devinuwara                                        2017 2017-12-01   \n",
            "475039  Devinuwara                                        2017 2017-12-01   \n",
            "475067  Negombo                                           2017 2017-09-21   \n",
            "475069  Devinuwara                                        2017 2017-06-26   \n",
            "\n",
            "        Is_In_Range  \n",
            "200           False  \n",
            "246           False  \n",
            "291           False  \n",
            "555           False  \n",
            "557           False  \n",
            "...             ...  \n",
            "474760        False  \n",
            "475037        False  \n",
            "475039        False  \n",
            "475067        False  \n",
            "475069        False  \n",
            "\n",
            "[11003 rows x 18 columns]\n"
          ]
        }
      ]
    },
    {
      "cell_type": "code",
      "source": [
        "duplicate_rows = df17[df17.duplicated()]\n",
        "\n",
        "if not duplicate_rows.empty:\n",
        "    print(\"Duplicate rows:\")\n",
        "    print(duplicate_rows)\n",
        "else:\n",
        "    print(\"No duplicate rows found.\")"
      ],
      "metadata": {
        "colab": {
          "base_uri": "https://localhost:8080/"
        },
        "id": "wReEuEv9dfpI",
        "outputId": "5184794c-4215-4cf4-98c8-8bf677718e7c"
      },
      "execution_count": 121,
      "outputs": [
        {
          "output_type": "stream",
          "name": "stdout",
          "text": [
            "No duplicate rows found.\n"
          ]
        }
      ]
    },
    {
      "cell_type": "code",
      "source": [
        "print(\"Duplicate rows:\")\n",
        "print(duplicate_rows)\n",
        "\n",
        "# Count occurrences of each duplicate row\n",
        "duplicate_counts = df17.duplicated(keep=False).sum()\n",
        "print(\"\\nNumber of occurrences of each duplicate row:\")\n",
        "print(df17[df17.duplicated()].value_counts().reset_index(name='Count'))"
      ],
      "metadata": {
        "colab": {
          "base_uri": "https://localhost:8080/"
        },
        "id": "ZFRPOwDbeURi",
        "outputId": "b06e5a6e-6939-4129-dbad-8fd5466ab315"
      },
      "execution_count": 119,
      "outputs": [
        {
          "output_type": "stream",
          "name": "stdout",
          "text": [
            "Duplicate rows:\n",
            "                                                   Rec_No  Month  Day  \\\n",
            "63      LB170893A-09-A                                ...      9    9   \n",
            "527     LB171745A-07-A                                ...      6   13   \n",
            "584     LB170325A-01-A                                ...      2    5   \n",
            "788     LB171313A-06-A                                ...      7    5   \n",
            "789     LB171313A-06-A                                ...      7    5   \n",
            "...                                                   ...    ...  ...   \n",
            "474709  LB170262A-02-A                                ...      2   20   \n",
            "474750  LB174566A-09-A                                ...      5    2   \n",
            "474751  LB174566A-09-A                                ...      5    2   \n",
            "474752  LB174566A-09-A                                ...      5    2   \n",
            "475052  LB171362A-10-A                                ...     11   11   \n",
            "\n",
            "                                                 Latitude  \\\n",
            "63      N006 18                                       ...   \n",
            "527     N005 48                                       ...   \n",
            "584     N012 25                                       ...   \n",
            "788     N001 36                                       ...   \n",
            "789     N001 36                                       ...   \n",
            "...                                                   ...   \n",
            "474709  N007 00                                       ...   \n",
            "474750  N008 48                                       ...   \n",
            "474751  N008 48                                       ...   \n",
            "474752  N008 48                                       ...   \n",
            "475052  N002 46                                       ...   \n",
            "\n",
            "                                                Longetude  Total Hooks  \\\n",
            "63      E081 41                                       ...          300   \n",
            "527     E080 07                                       ...            0   \n",
            "584     E086 21                                       ...         1000   \n",
            "788     E080 18                                       ...            0   \n",
            "789     E080 18                                       ...            0   \n",
            "...                                                   ...          ...   \n",
            "474709  E084 45                                       ...          700   \n",
            "474750  E081 29                                       ...          150   \n",
            "474751  E081 29                                       ...          150   \n",
            "474752  E081 29                                       ...          150   \n",
            "475052  E077 05                                       ...          850   \n",
            "\n",
            "                                             Type_of_Bait  \\\n",
            "63      CUTTLE FISH                                   ...   \n",
            "527     NA                                            ...   \n",
            "584     PIHITI                                        ...   \n",
            "788     NA                                            ...   \n",
            "789     NA                                            ...   \n",
            "...                                                   ...   \n",
            "474709  PIYATI                                        ...   \n",
            "474750  NA                                            ...   \n",
            "474751  NA                                            ...   \n",
            "474752  NA                                            ...   \n",
            "475052  VEKKAYA                                       ...   \n",
            "\n",
            "                                                     zone     KG  Amount  \\\n",
            "63      EEZ NA                                        ...  210.0     6.0   \n",
            "527     EEZ NA                                        ...  100.0     2.0   \n",
            "584     HIGH SEAS NA                                  ...  460.0    10.0   \n",
            "788     HIGH SEAS NA                                  ...   80.0     3.0   \n",
            "789     HIGH SEAS NA                                  ...   80.0     3.0   \n",
            "...                                                   ...    ...     ...   \n",
            "474709  EEZ                                           ...  180.0     4.0   \n",
            "474750  EEZ                                           ...   89.0     2.0   \n",
            "474751  EEZ                                           ...   89.0     2.0   \n",
            "474752  EEZ                                           ...   89.0     2.0   \n",
            "475052  HIGH SEAS                                     ...   40.0     1.0   \n",
            "\n",
            "                             Boat_No Arrival_date Departure_Date  \\\n",
            "63      IMULA0036MTR                   2017-11-11     2017-09-04   \n",
            "527     IMULA1049MTR                   2017-06-28     2017-06-13   \n",
            "584     IMULA0613NBO                   2017-02-09     2017-01-17   \n",
            "788     IMULA0532CHW                   2017-07-15     2017-06-24   \n",
            "789     IMULA0532CHW                   2017-07-15     2017-06-24   \n",
            "...                              ...          ...            ...   \n",
            "474709  IMULA0739CHW                   2017-03-01     2017-02-01   \n",
            "474750  IMULA0161MTR                   2017-05-04     2017-04-29   \n",
            "474751  IMULA0161MTR                   2017-05-04     2017-04-29   \n",
            "474752  IMULA0161MTR                   2017-05-04     2017-04-29   \n",
            "475052  IMULA0507CHW                   2017-11-26     2017-11-01   \n",
            "\n",
            "                                            Arrival_Port  \\\n",
            "63      Kirinda                                            \n",
            "527     Devinuwara                                         \n",
            "584     Cod Bay                                            \n",
            "788     Dikowita                                           \n",
            "789     Dikowita                                           \n",
            "...                                                  ...   \n",
            "474709  TLE                                                \n",
            "474750  Valaichchenai                                      \n",
            "474751  Valaichchenai                                      \n",
            "474752  Valaichchenai                                      \n",
            "475052  Dikowita                                           \n",
            "\n",
            "                                          Departure_Port  Year   Set_Date  \\\n",
            "63      Devinuwara                                        2017 2017-09-09   \n",
            "527     Devinuwara                                        2017 2017-06-13   \n",
            "584     Cod Bay                                           2017 2017-02-05   \n",
            "788     Dikowita                                          2017 2017-07-05   \n",
            "789     Dikowita                                          2017 2017-07-05   \n",
            "...                                                  ...   ...        ...   \n",
            "474709  TLE                                               2017 2017-02-20   \n",
            "474750  Valaichchenai                                     2017 2017-05-02   \n",
            "474751  Valaichchenai                                     2017 2017-05-02   \n",
            "474752  Valaichchenai                                     2017 2017-05-02   \n",
            "475052  Dikowita                                          2017 2017-11-11   \n",
            "\n",
            "        Is_In_Range  \n",
            "63             True  \n",
            "527            True  \n",
            "584            True  \n",
            "788            True  \n",
            "789            True  \n",
            "...             ...  \n",
            "474709         True  \n",
            "474750         True  \n",
            "474751         True  \n",
            "474752         True  \n",
            "475052         True  \n",
            "\n",
            "[7289 rows x 18 columns]\n",
            "\n",
            "Number of occurrences of each duplicate row:\n",
            "                                                 Rec_No  Month  Day  \\\n",
            "0     LB171275A-05-A                                ...      8   13   \n",
            "1     LB170308A-03-A                                ...      3   13   \n",
            "2     LB171227A-07-A                                ...     10    5   \n",
            "3     LB171227A-07-A                                ...     10    5   \n",
            "4     LB171313A-06-A                                ...      7    5   \n",
            "...                                                 ...    ...  ...   \n",
            "2895  LB171248A-02-A                                ...      2   12   \n",
            "2896  LB171248A-02-A                                ...      2   14   \n",
            "2897  LB171248A-02-A                                ...      2   17   \n",
            "2898  LB171248A-02-A                                ...      2   17   \n",
            "2899  lb173080a-12-A                                ...      8   28   \n",
            "\n",
            "                                               Latitude  \\\n",
            "0     N007 50                                       ...   \n",
            "1     N007 44                                       ...   \n",
            "2     N015 42                                       ...   \n",
            "3     N015 42                                       ...   \n",
            "4     N001 36                                       ...   \n",
            "...                                                 ...   \n",
            "2895  N010 50                                       ...   \n",
            "2896  N010 50                                       ...   \n",
            "2897  N010 50                                       ...   \n",
            "2898  N010 50                                       ...   \n",
            "2899  N005 35                                       ...   \n",
            "\n",
            "                                              Longetude  Total Hooks  \\\n",
            "0     E068 55                                       ...            0   \n",
            "1     E087 24                                       ...          840   \n",
            "2     E089 45                                       ...            0   \n",
            "3     E089 45                                       ...            0   \n",
            "4     E080 18                                       ...            0   \n",
            "...                                                 ...          ...   \n",
            "2895  E082 50                                       ...          400   \n",
            "2896  E082 50                                       ...          400   \n",
            "2897  E082 50                                       ...          400   \n",
            "2898  E082 50                                       ...          400   \n",
            "2899  E081 15                                       ...            4   \n",
            "\n",
            "                                           Type_of_Bait  \\\n",
            "0     DELLA                                         ...   \n",
            "1     FLYING FISH                                   ...   \n",
            "2     PIYATY                                        ...   \n",
            "3     PIYATY                                        ...   \n",
            "4     NA                                            ...   \n",
            "...                                                 ...   \n",
            "2895  SQUID                                         ...   \n",
            "2896  SQUID                                         ...   \n",
            "2897  SQUID                                         ...   \n",
            "2898  SQUID                                         ...   \n",
            "2899  DELLA                                         ...   \n",
            "\n",
            "                                                   zone     KG  Amount  \\\n",
            "0     HIGH SEAS                                     ...  900.0     3.0   \n",
            "1     HIGH SEAS NA                                  ...    0.0     4.0   \n",
            "2     HIGH SEAS                                     ...   42.0     1.0   \n",
            "3     HIGH SEAS                                     ...   42.0     1.0   \n",
            "4     HIGH SEAS NA                                  ...   80.0     3.0   \n",
            "...                                                 ...    ...     ...   \n",
            "2895  EEZ NA                                        ...  370.0     7.0   \n",
            "2896  EEZ NA                                        ...  370.0     7.0   \n",
            "2897  EEZ                                           ...  265.0     4.0   \n",
            "2898  EEZ                                           ...  280.0     6.0   \n",
            "2899  EEZ NA                                        ...  100.0     3.0   \n",
            "\n",
            "                           Boat_No Arrival_date Departure_Date  \\\n",
            "0     IMULA0652CHW                   2017-08-22     2017-07-05   \n",
            "1     IMULA0644CHW                   2017-03-20     2017-02-18   \n",
            "2     IMULA0148PTM                   2017-10-22     2017-09-24   \n",
            "3     IMULA0148PTM                   2017-06-14     2017-05-30   \n",
            "4     IMULA0532CHW                   2017-07-15     2017-06-24   \n",
            "...                            ...          ...            ...   \n",
            "2895  IMULA0185CHW                   2017-02-21     2017-01-27   \n",
            "2896  IMULA0185CHW                   2017-02-21     2017-01-27   \n",
            "2897  IMULA0185CHW                   2017-02-21     2017-01-27   \n",
            "2898  IMULA0185CHW                   2017-02-21     2017-01-27   \n",
            "2899  IMULA0148TCO                   2017-09-14     2017-08-24   \n",
            "\n",
            "                                          Arrival_Port  \\\n",
            "0     Negombo                                            \n",
            "1     Dikowita                                           \n",
            "2     Cod Bay                                            \n",
            "3     Cod Bay                                            \n",
            "4     Dikowita                                           \n",
            "...                                                ...   \n",
            "2895  Kalpitiya                                          \n",
            "2896  Kalpitiya                                          \n",
            "2897  Kalpitiya                                          \n",
            "2898  Kalpitiya                                          \n",
            "2899  Nilwella                                           \n",
            "\n",
            "                                        Departure_Port  Year   Set_Date  \\\n",
            "0     Negombo                                           2017 2017-08-13   \n",
            "1     TCO                                               2017 2017-03-13   \n",
            "2     Cod Bay                                           2017 2017-10-05   \n",
            "3     Cod Bay                                           2017 2017-10-05   \n",
            "4     Dikowita                                          2017 2017-07-05   \n",
            "...                                                ...   ...        ...   \n",
            "2895  TCO                                               2017 2017-02-12   \n",
            "2896  TCO                                               2017 2017-02-14   \n",
            "2897  TCO                                               2017 2017-02-17   \n",
            "2898  TCO                                               2017 2017-02-17   \n",
            "2899  Nilwella                                          2017 2017-08-28   \n",
            "\n",
            "      Is_In_Range  Count  \n",
            "0            True   1023  \n",
            "1            True    783  \n",
            "2            True    168  \n",
            "3           False    168  \n",
            "4            True    120  \n",
            "...           ...    ...  \n",
            "2895         True      1  \n",
            "2896         True      1  \n",
            "2897         True      1  \n",
            "2898         True      1  \n",
            "2899         True      1  \n",
            "\n",
            "[2900 rows x 19 columns]\n"
          ]
        }
      ]
    },
    {
      "cell_type": "code",
      "source": [
        "df17= df17.drop_duplicates()"
      ],
      "metadata": {
        "id": "MoKIz9YkenPV"
      },
      "execution_count": 178,
      "outputs": []
    },
    {
      "cell_type": "code",
      "source": [
        "merged_df1 = pd.concat([df16, df17], ignore_index=True)"
      ],
      "metadata": {
        "id": "9HPvDKJCfy6t"
      },
      "execution_count": 179,
      "outputs": []
    },
    {
      "cell_type": "code",
      "source": [
        "merged_df1.info()"
      ],
      "metadata": {
        "id": "2NMQ1w4Of4LM",
        "outputId": "638d4977-c1f8-4093-fc86-79544e21bc52",
        "colab": {
          "base_uri": "https://localhost:8080/"
        }
      },
      "execution_count": 180,
      "outputs": [
        {
          "output_type": "stream",
          "name": "stdout",
          "text": [
            "<class 'pandas.core.frame.DataFrame'>\n",
            "RangeIndex: 130084 entries, 0 to 130083\n",
            "Data columns (total 18 columns):\n",
            " #   Column          Non-Null Count   Dtype         \n",
            "---  ------          --------------   -----         \n",
            " 0   Rec_No          130084 non-null  object        \n",
            " 1   Month           130084 non-null  int64         \n",
            " 2   Day             130084 non-null  int64         \n",
            " 3   Latitude        130084 non-null  object        \n",
            " 4   Longetude       130084 non-null  object        \n",
            " 5   Total_Hooks     130084 non-null  int64         \n",
            " 6   Type_of_Bait    114372 non-null  object        \n",
            " 7   zone            130077 non-null  object        \n",
            " 8   KG              130084 non-null  float64       \n",
            " 9   Amount          130084 non-null  float64       \n",
            " 10  Boat_No         130084 non-null  object        \n",
            " 11  Departure_Port  130084 non-null  object        \n",
            " 12  Departure_Date  130084 non-null  datetime64[ns]\n",
            " 13  Arrival_Port    130084 non-null  object        \n",
            " 14  Arrival_date    130084 non-null  datetime64[ns]\n",
            " 15  Year            130084 non-null  int64         \n",
            " 16  Set_Date        129920 non-null  datetime64[ns]\n",
            " 17  Is_In_Range     130084 non-null  bool          \n",
            "dtypes: bool(1), datetime64[ns](3), float64(2), int64(4), object(8)\n",
            "memory usage: 17.0+ MB\n"
          ]
        }
      ]
    },
    {
      "cell_type": "code",
      "source": [
        "merged_df1.to_csv('merged_16_17.csv')\n",
        "csv_file_path = \"merged_16_17.csv\"\n",
        "colab_folder = \"/content/gdrive/MyDrive/FYP_Datasets/7_Year16to19\"\n",
        "shutil.move(csv_file_path, os.path.join(colab_folder, csv_file_path))\n",
        "\n",
        "print(f\"File '{csv_file_path}' moved to the '{colab_folder}' folder.\")"
      ],
      "metadata": {
        "id": "lIDT6x_agEAt",
        "outputId": "69b66fe0-a48b-4cbb-c3f6-9fadc3a8f4e2",
        "colab": {
          "base_uri": "https://localhost:8080/"
        }
      },
      "execution_count": 181,
      "outputs": [
        {
          "output_type": "stream",
          "name": "stdout",
          "text": [
            "File 'merged_16_17.csv' moved to the '/content/gdrive/MyDrive/FYP_Datasets/7_Year16to19' folder.\n"
          ]
        }
      ]
    },
    {
      "cell_type": "markdown",
      "source": [
        "2018"
      ],
      "metadata": {
        "id": "ADcRS6i3fFsQ"
      }
    },
    {
      "cell_type": "code",
      "source": [
        "df18.info()"
      ],
      "metadata": {
        "colab": {
          "base_uri": "https://localhost:8080/"
        },
        "id": "yxKjmq2ye0oo",
        "outputId": "46db9e68-18a9-41ff-95bc-e2a9c4d01ff6"
      },
      "execution_count": 132,
      "outputs": [
        {
          "output_type": "stream",
          "name": "stdout",
          "text": [
            "<class 'pandas.core.frame.DataFrame'>\n",
            "RangeIndex: 356204 entries, 0 to 356203\n",
            "Data columns (total 39 columns):\n",
            " #   Column               Non-Null Count   Dtype         \n",
            "---  ------               --------------   -----         \n",
            " 0   id                   356204 non-null  int64         \n",
            " 1   Rec_No               356204 non-null  object        \n",
            " 2   Y                    356204 non-null  int64         \n",
            " 3   M                    356204 non-null  int64         \n",
            " 4   D                    356204 non-null  int64         \n",
            " 5   Lat                  356204 non-null  object        \n",
            " 6   Long                 356204 non-null  object        \n",
            " 7   Fish_Name            356204 non-null  object        \n",
            " 8   KG                   356204 non-null  float64       \n",
            " 9   Amount               356204 non-null  float64       \n",
            " 10  Boat_No              356204 non-null  object        \n",
            " 11  Departure_Date       356204 non-null  datetime64[ns]\n",
            " 12  Departure_Port       356204 non-null  object        \n",
            " 13  Arrival_date         356204 non-null  datetime64[ns]\n",
            " 14  Arrival_Port         356204 non-null  object        \n",
            " 15  Catch_Type           356204 non-null  object        \n",
            " 16  Month                356204 non-null  int64         \n",
            " 17  Date_Of_Set          356204 non-null  int64         \n",
            " 18  StartTime            356204 non-null  int64         \n",
            " 19  EndTime              356204 non-null  int64         \n",
            " 20  Latitude             356204 non-null  object        \n",
            " 21  Longetude            356204 non-null  object        \n",
            " 22  Total_Length_of_Net  34371 non-null   object        \n",
            " 23  Mesh_Size            356204 non-null  float64       \n",
            " 24  Depth_Net_Set        356204 non-null  float64       \n",
            " 25  Height_of_net        356204 non-null  float64       \n",
            " 26  FADType              316 non-null     object        \n",
            " 27  GillNetLen           356204 non-null  int64         \n",
            " 28  BranchLine_Len       163449 non-null  object        \n",
            " 29  Hooks_Between        356204 non-null  int64         \n",
            " 30  Total_Hooks          356204 non-null  int64         \n",
            " 31  Type_of_Bait         55729 non-null   object        \n",
            " 32  Remarks              817 non-null     object        \n",
            " 33  Rec_Date             356204 non-null  datetime64[ns]\n",
            " 34  EndLatitude          84126 non-null   object        \n",
            " 35  EndLongetude         83990 non-null   object        \n",
            " 36  zone                 356155 non-null  object        \n",
            " 37  Fivedegree           356204 non-null  int64         \n",
            " 38  Onedegree            356204 non-null  int64         \n",
            "dtypes: datetime64[ns](3), float64(5), int64(13), object(18)\n",
            "memory usage: 106.0+ MB\n"
          ]
        }
      ]
    },
    {
      "cell_type": "code",
      "source": [
        "df18['Fish_Name'].value_counts()"
      ],
      "metadata": {
        "id": "1C28vpvKiKb6",
        "outputId": "488210fe-d2f2-43a0-e0c2-9f37bf329db9",
        "colab": {
          "base_uri": "https://localhost:8080/"
        }
      },
      "execution_count": 133,
      "outputs": [
        {
          "output_type": "execute_result",
          "data": {
            "text/plain": [
              "Skipjack tuna                          83771\n",
              "Yellowfin tuna                         83351\n",
              "Sword fish                             46106\n",
              "Sail fish                              38985\n",
              "Black marlin                           15467\n",
              "                                       ...  \n",
              "SEER                                       2\n",
              "SEA VIRAL                                  2\n",
              "PONY?+????FISH(Karalla)                    2\n",
              "PALLA MACHLI                               1\n",
              "Small Yello fin tuna                       1\n",
              "Name: Fish_Name, Length: 68, dtype: int64"
            ]
          },
          "metadata": {},
          "execution_count": 133
        }
      ]
    },
    {
      "cell_type": "code",
      "source": [
        "df18['Catch_Type'].value_counts()"
      ],
      "metadata": {
        "id": "PGl_TQYUiQLJ",
        "outputId": "5af54ed7-033f-4085-da6d-5e54081ad3ab",
        "colab": {
          "base_uri": "https://localhost:8080/"
        }
      },
      "execution_count": 134,
      "outputs": [
        {
          "output_type": "execute_result",
          "data": {
            "text/plain": [
              "longline    163449\n",
              "gillnets    158384\n",
              "ringnet      34371\n",
              "Name: Catch_Type, dtype: int64"
            ]
          },
          "metadata": {},
          "execution_count": 134
        }
      ]
    },
    {
      "cell_type": "code",
      "source": [
        "df18 = df18c.copy()"
      ],
      "metadata": {
        "id": "4Du8i--RioDU"
      },
      "execution_count": 137,
      "outputs": []
    },
    {
      "cell_type": "code",
      "source": [
        "df18['Catch_Type'] = df18['Catch_Type'].str.strip()\n",
        "df18['Fish_Name'] = df18['Fish_Name'].str.strip()"
      ],
      "metadata": {
        "id": "VutHgFPkinVK"
      },
      "execution_count": 138,
      "outputs": []
    },
    {
      "cell_type": "code",
      "source": [
        "df18 = df18[df18['Catch_Type'] == 'longline']\n",
        "df18 = df18[df18['Fish_Name'] == 'Yellowfin tuna']"
      ],
      "metadata": {
        "id": "hAoFstWEiJ5b"
      },
      "execution_count": 139,
      "outputs": []
    },
    {
      "cell_type": "code",
      "source": [
        "df18.info()"
      ],
      "metadata": {
        "id": "A9-LCrtNih5p",
        "outputId": "3add6daf-4cd4-48cc-c928-406bfcf204d6",
        "colab": {
          "base_uri": "https://localhost:8080/"
        }
      },
      "execution_count": 140,
      "outputs": [
        {
          "output_type": "stream",
          "name": "stdout",
          "text": [
            "<class 'pandas.core.frame.DataFrame'>\n",
            "Int64Index: 72616 entries, 0 to 356166\n",
            "Data columns (total 39 columns):\n",
            " #   Column               Non-Null Count  Dtype         \n",
            "---  ------               --------------  -----         \n",
            " 0   id                   72616 non-null  int64         \n",
            " 1   Rec_No               72616 non-null  object        \n",
            " 2   Y                    72616 non-null  int64         \n",
            " 3   M                    72616 non-null  int64         \n",
            " 4   D                    72616 non-null  int64         \n",
            " 5   Lat                  72616 non-null  object        \n",
            " 6   Long                 72616 non-null  object        \n",
            " 7   Fish_Name            72616 non-null  object        \n",
            " 8   KG                   72616 non-null  float64       \n",
            " 9   Amount               72616 non-null  float64       \n",
            " 10  Boat_No              72616 non-null  object        \n",
            " 11  Departure_Date       72616 non-null  datetime64[ns]\n",
            " 12  Departure_Port       72616 non-null  object        \n",
            " 13  Arrival_date         72616 non-null  datetime64[ns]\n",
            " 14  Arrival_Port         72616 non-null  object        \n",
            " 15  Catch_Type           72616 non-null  object        \n",
            " 16  Month                72616 non-null  int64         \n",
            " 17  Date_Of_Set          72616 non-null  int64         \n",
            " 18  StartTime            72616 non-null  int64         \n",
            " 19  EndTime              72616 non-null  int64         \n",
            " 20  Latitude             72616 non-null  object        \n",
            " 21  Longetude            72616 non-null  object        \n",
            " 22  Total_Length_of_Net  0 non-null      object        \n",
            " 23  Mesh_Size            72616 non-null  float64       \n",
            " 24  Depth_Net_Set        72616 non-null  float64       \n",
            " 25  Height_of_net        72616 non-null  float64       \n",
            " 26  FADType              0 non-null      object        \n",
            " 27  GillNetLen           72616 non-null  int64         \n",
            " 28  BranchLine_Len       72616 non-null  object        \n",
            " 29  Hooks_Between        72616 non-null  int64         \n",
            " 30  Total_Hooks          72616 non-null  int64         \n",
            " 31  Type_of_Bait         25782 non-null  object        \n",
            " 32  Remarks              59 non-null     object        \n",
            " 33  Rec_Date             72616 non-null  datetime64[ns]\n",
            " 34  EndLatitude          0 non-null      object        \n",
            " 35  EndLongetude         0 non-null      object        \n",
            " 36  zone                 72615 non-null  object        \n",
            " 37  Fivedegree           72616 non-null  int64         \n",
            " 38  Onedegree            72616 non-null  int64         \n",
            "dtypes: datetime64[ns](3), float64(5), int64(13), object(18)\n",
            "memory usage: 22.2+ MB\n"
          ]
        }
      ]
    },
    {
      "cell_type": "code",
      "source": [
        "are_columns_equal = (df18['M'] == df18['Month']).all()\n",
        "\n",
        "if are_columns_equal:\n",
        "    print(\"Values in columns 'a' and 'b' are the same for every record.\")\n",
        "else:\n",
        "    print(\"Values in columns 'a' and 'b' are not the same for every record.\")"
      ],
      "metadata": {
        "id": "yNcB-4HXi29-",
        "outputId": "a74eabf8-599d-40a1-99f8-a6ee855f3deb",
        "colab": {
          "base_uri": "https://localhost:8080/"
        }
      },
      "execution_count": 142,
      "outputs": [
        {
          "output_type": "stream",
          "name": "stdout",
          "text": [
            "Values in columns 'a' and 'b' are not the same for every record.\n"
          ]
        }
      ]
    },
    {
      "cell_type": "code",
      "source": [
        "different_values = df18[df18['Latitude'] != df18['Lat']][['Latitude', 'Lat']]\n",
        "\n",
        "if different_values.empty:\n",
        "    print(\"There are no different values between columns 'a' and 'b'.\")\n",
        "else:\n",
        "    print(\"Different values between columns 'a' and 'b':\")\n",
        "    print(different_values)"
      ],
      "metadata": {
        "id": "KLc7A7R_kUz0",
        "outputId": "0f28ad55-d029-4b86-f214-102c262d3961",
        "colab": {
          "base_uri": "https://localhost:8080/"
        }
      },
      "execution_count": 144,
      "outputs": [
        {
          "output_type": "stream",
          "name": "stdout",
          "text": [
            "Different values between columns 'a' and 'b':\n",
            "       Latitude         Lat\n",
            "0       N010 16  N010 16   \n",
            "2       N010 16  N010 16   \n",
            "4       N011 24  N011 24   \n",
            "7       N011 10  N011 10   \n",
            "10      N011 10  N011 10   \n",
            "...         ...         ...\n",
            "356162  N010 14  N010 14   \n",
            "356163  N010 05  N010 05   \n",
            "356164  N010 17  N010 17   \n",
            "356165  N010 20  N010 20   \n",
            "356166  N010 10  N010 10   \n",
            "\n",
            "[72616 rows x 2 columns]\n"
          ]
        }
      ]
    },
    {
      "cell_type": "code",
      "source": [
        "df18.drop(['id', 'Fish_Name', 'Month', 'StartTime', 'EndTime','Latitude', 'Longetude',\n",
        "           'Total_Length_of_Net', 'Mesh_Size', 'Depth_Net_Set','Height_of_net', 'FADType',\n",
        "           'GillNetLen' , 'BranchLine_Len', 'Hooks_Between', 'Remarks', 'Rec_Date',\n",
        "           'EndLatitude', 'EndLongetude', 'Fivedegree', 'Onedegree'\n",
        "           ], axis=1, inplace=True)"
      ],
      "metadata": {
        "id": "nFYKLCEfjQQl"
      },
      "execution_count": 146,
      "outputs": []
    },
    {
      "cell_type": "code",
      "source": [
        "df18.drop(['Date_Of_Set'], axis=1, inplace=True)"
      ],
      "metadata": {
        "id": "1GRpgf3HnSDf"
      },
      "execution_count": 155,
      "outputs": []
    },
    {
      "cell_type": "code",
      "source": [
        "df18.drop(['Catch_Type'], axis=1, inplace=True)"
      ],
      "metadata": {
        "id": "e_Mss3s-rxFZ",
        "outputId": "68bba3af-ebf3-4acf-d7e5-de4c4c812b72",
        "colab": {
          "base_uri": "https://localhost:8080/"
        }
      },
      "execution_count": 173,
      "outputs": [
        {
          "output_type": "stream",
          "name": "stderr",
          "text": [
            "<ipython-input-173-706262992ddb>:1: SettingWithCopyWarning: \n",
            "A value is trying to be set on a copy of a slice from a DataFrame\n",
            "\n",
            "See the caveats in the documentation: https://pandas.pydata.org/pandas-docs/stable/user_guide/indexing.html#returning-a-view-versus-a-copy\n",
            "  df18.drop(['Catch_Type'], axis=1, inplace=True)\n"
          ]
        }
      ]
    },
    {
      "cell_type": "code",
      "source": [
        "df18.info()"
      ],
      "metadata": {
        "id": "zTFFURk3mGOz",
        "outputId": "32f1dec1-aa68-4b3e-e1f0-3b217effd2c6",
        "colab": {
          "base_uri": "https://localhost:8080/"
        }
      },
      "execution_count": 174,
      "outputs": [
        {
          "output_type": "stream",
          "name": "stdout",
          "text": [
            "<class 'pandas.core.frame.DataFrame'>\n",
            "Int64Index: 71425 entries, 0 to 356166\n",
            "Data columns (total 18 columns):\n",
            " #   Column          Non-Null Count  Dtype         \n",
            "---  ------          --------------  -----         \n",
            " 0   Rec_No          71425 non-null  object        \n",
            " 1   Year            71425 non-null  int64         \n",
            " 2   Month           71425 non-null  int64         \n",
            " 3   Day             71425 non-null  int64         \n",
            " 4   Latitude        71425 non-null  object        \n",
            " 5   Longetude       71425 non-null  object        \n",
            " 6   KG              71425 non-null  float64       \n",
            " 7   Amount          71425 non-null  float64       \n",
            " 8   Boat_No         71425 non-null  object        \n",
            " 9   Departure_Date  71425 non-null  datetime64[ns]\n",
            " 10  Departure_Port  71425 non-null  object        \n",
            " 11  Arrival_date    71425 non-null  datetime64[ns]\n",
            " 12  Arrival_Port    71425 non-null  object        \n",
            " 13  Total_Hooks     71425 non-null  int64         \n",
            " 14  Type_of_Bait    25471 non-null  object        \n",
            " 15  zone            71424 non-null  object        \n",
            " 16  Set_Date        71425 non-null  datetime64[ns]\n",
            " 17  Is_In_Range     71425 non-null  bool          \n",
            "dtypes: bool(1), datetime64[ns](3), float64(2), int64(4), object(8)\n",
            "memory usage: 9.9+ MB\n"
          ]
        }
      ]
    },
    {
      "cell_type": "code",
      "source": [
        "df18"
      ],
      "metadata": {
        "id": "bXEsMzMNqzB6",
        "outputId": "e60b7094-a33b-401a-c900-5bfc65b59c7d",
        "colab": {
          "base_uri": "https://localhost:8080/",
          "height": 652
        }
      },
      "execution_count": 168,
      "outputs": [
        {
          "output_type": "execute_result",
          "data": {
            "text/plain": [
              "                           Rec_No  Year  Month  Day    Latitude   Longetude  \\\n",
              "0       LB170001A-16-A             2018      1   12  N010 16     E084 43      \n",
              "2       LB170001A-16-A             2018      1    3  N010 16     E084 43      \n",
              "4       LB170001A-16-A             2018      1   15  N011 24     E085 03      \n",
              "7       LB170001A-16-A             2018      1   17  N011 10     E084 10      \n",
              "10      LB170001A-16-A             2018      1   19  N011 10     E083 17      \n",
              "...                           ...   ...    ...  ...         ...         ...   \n",
              "356162  LB184819A-07-A             2018     11    6  N010 14     E081 10      \n",
              "356163  LB184819A-07-A             2018     11   28  N010 05     E081 05      \n",
              "356164  LB184819A-07-A             2018     11   22  N010 17     E081 30      \n",
              "356165  LB184819A-07-A             2018     11   24  N010 20     E081 20      \n",
              "356166  LB184819A-07-A             2018     11   25  N010 10     E081 20      \n",
              "\n",
              "           KG  Amount       Boat_No Departure_Date Departure_Port  \\\n",
              "0       250.0     5.0  IMULA0938TLE     2018-01-06       Tangalle   \n",
              "2       200.0     5.0  IMULA0938TLE     2018-01-06       Tangalle   \n",
              "4       160.0     3.0  IMULA0938TLE     2018-01-06       Tangalle   \n",
              "7       100.0     2.0  IMULA0938TLE     2018-01-06       Tangalle   \n",
              "10      350.0     8.0  IMULA0938TLE     2018-01-06       Tangalle   \n",
              "...       ...     ...           ...            ...            ...   \n",
              "356162   60.0     1.0  IMULA0691MTR     2018-11-18        Cod Bay   \n",
              "356163   80.0     3.0  IMULA0691MTR     2018-11-18        Cod Bay   \n",
              "356164   50.0     2.0  IMULA0691MTR     2018-11-18        Cod Bay   \n",
              "356165   15.0     1.0  IMULA0691MTR     2018-11-18        Cod Bay   \n",
              "356166   60.0     2.0  IMULA0691MTR     2018-11-18        Cod Bay   \n",
              "\n",
              "       Arrival_date Arrival_Port Catch_Type  Total_Hooks Type_of_Bait  \\\n",
              "0        2018-01-30     Tangalle   longline          500     FLY FISH   \n",
              "2        2018-01-30     Tangalle   longline            0          NaN   \n",
              "4        2018-01-30     Tangalle   longline            0          NaN   \n",
              "7        2018-01-30     Tangalle   longline            0          NaN   \n",
              "10       2018-01-30     Tangalle   longline            0          NaN   \n",
              "...             ...          ...        ...          ...          ...   \n",
              "356162   2018-12-13      Cod Bay   longline            0          NaN   \n",
              "356163   2018-12-13      Cod Bay   longline            0          NaN   \n",
              "356164   2018-12-13      Cod Bay   longline          500        BOLLA   \n",
              "356165   2018-12-13      Cod Bay   longline            0          NaN   \n",
              "356166   2018-12-13      Cod Bay   longline            0          NaN   \n",
              "\n",
              "                zone   Set_Date  Is_In_Range  \n",
              "0          HIGH SEAS 2018-01-12         True  \n",
              "2          HIGH SEAS 2018-01-03        False  \n",
              "4       HIGH SEAS NA 2018-01-15         True  \n",
              "7       HIGH SEAS NA 2018-01-17         True  \n",
              "10            EEZ NA 2018-01-19         True  \n",
              "...              ...        ...          ...  \n",
              "356162        EEZ NA 2018-11-06        False  \n",
              "356163        EEZ NA 2018-11-28         True  \n",
              "356164        EEZ NA 2018-11-22         True  \n",
              "356165        EEZ NA 2018-11-24         True  \n",
              "356166        EEZ NA 2018-11-25         True  \n",
              "\n",
              "[71425 rows x 19 columns]"
            ],
            "text/html": [
              "\n",
              "  <div id=\"df-8c113ce2-fbce-4b99-8dd3-23c2bec921c2\" class=\"colab-df-container\">\n",
              "    <div>\n",
              "<style scoped>\n",
              "    .dataframe tbody tr th:only-of-type {\n",
              "        vertical-align: middle;\n",
              "    }\n",
              "\n",
              "    .dataframe tbody tr th {\n",
              "        vertical-align: top;\n",
              "    }\n",
              "\n",
              "    .dataframe thead th {\n",
              "        text-align: right;\n",
              "    }\n",
              "</style>\n",
              "<table border=\"1\" class=\"dataframe\">\n",
              "  <thead>\n",
              "    <tr style=\"text-align: right;\">\n",
              "      <th></th>\n",
              "      <th>Rec_No</th>\n",
              "      <th>Year</th>\n",
              "      <th>Month</th>\n",
              "      <th>Day</th>\n",
              "      <th>Latitude</th>\n",
              "      <th>Longetude</th>\n",
              "      <th>KG</th>\n",
              "      <th>Amount</th>\n",
              "      <th>Boat_No</th>\n",
              "      <th>Departure_Date</th>\n",
              "      <th>Departure_Port</th>\n",
              "      <th>Arrival_date</th>\n",
              "      <th>Arrival_Port</th>\n",
              "      <th>Catch_Type</th>\n",
              "      <th>Total_Hooks</th>\n",
              "      <th>Type_of_Bait</th>\n",
              "      <th>zone</th>\n",
              "      <th>Set_Date</th>\n",
              "      <th>Is_In_Range</th>\n",
              "    </tr>\n",
              "  </thead>\n",
              "  <tbody>\n",
              "    <tr>\n",
              "      <th>0</th>\n",
              "      <td>LB170001A-16-A</td>\n",
              "      <td>2018</td>\n",
              "      <td>1</td>\n",
              "      <td>12</td>\n",
              "      <td>N010 16</td>\n",
              "      <td>E084 43</td>\n",
              "      <td>250.0</td>\n",
              "      <td>5.0</td>\n",
              "      <td>IMULA0938TLE</td>\n",
              "      <td>2018-01-06</td>\n",
              "      <td>Tangalle</td>\n",
              "      <td>2018-01-30</td>\n",
              "      <td>Tangalle</td>\n",
              "      <td>longline</td>\n",
              "      <td>500</td>\n",
              "      <td>FLY FISH</td>\n",
              "      <td>HIGH SEAS</td>\n",
              "      <td>2018-01-12</td>\n",
              "      <td>True</td>\n",
              "    </tr>\n",
              "    <tr>\n",
              "      <th>2</th>\n",
              "      <td>LB170001A-16-A</td>\n",
              "      <td>2018</td>\n",
              "      <td>1</td>\n",
              "      <td>3</td>\n",
              "      <td>N010 16</td>\n",
              "      <td>E084 43</td>\n",
              "      <td>200.0</td>\n",
              "      <td>5.0</td>\n",
              "      <td>IMULA0938TLE</td>\n",
              "      <td>2018-01-06</td>\n",
              "      <td>Tangalle</td>\n",
              "      <td>2018-01-30</td>\n",
              "      <td>Tangalle</td>\n",
              "      <td>longline</td>\n",
              "      <td>0</td>\n",
              "      <td>NaN</td>\n",
              "      <td>HIGH SEAS</td>\n",
              "      <td>2018-01-03</td>\n",
              "      <td>False</td>\n",
              "    </tr>\n",
              "    <tr>\n",
              "      <th>4</th>\n",
              "      <td>LB170001A-16-A</td>\n",
              "      <td>2018</td>\n",
              "      <td>1</td>\n",
              "      <td>15</td>\n",
              "      <td>N011 24</td>\n",
              "      <td>E085 03</td>\n",
              "      <td>160.0</td>\n",
              "      <td>3.0</td>\n",
              "      <td>IMULA0938TLE</td>\n",
              "      <td>2018-01-06</td>\n",
              "      <td>Tangalle</td>\n",
              "      <td>2018-01-30</td>\n",
              "      <td>Tangalle</td>\n",
              "      <td>longline</td>\n",
              "      <td>0</td>\n",
              "      <td>NaN</td>\n",
              "      <td>HIGH SEAS NA</td>\n",
              "      <td>2018-01-15</td>\n",
              "      <td>True</td>\n",
              "    </tr>\n",
              "    <tr>\n",
              "      <th>7</th>\n",
              "      <td>LB170001A-16-A</td>\n",
              "      <td>2018</td>\n",
              "      <td>1</td>\n",
              "      <td>17</td>\n",
              "      <td>N011 10</td>\n",
              "      <td>E084 10</td>\n",
              "      <td>100.0</td>\n",
              "      <td>2.0</td>\n",
              "      <td>IMULA0938TLE</td>\n",
              "      <td>2018-01-06</td>\n",
              "      <td>Tangalle</td>\n",
              "      <td>2018-01-30</td>\n",
              "      <td>Tangalle</td>\n",
              "      <td>longline</td>\n",
              "      <td>0</td>\n",
              "      <td>NaN</td>\n",
              "      <td>HIGH SEAS NA</td>\n",
              "      <td>2018-01-17</td>\n",
              "      <td>True</td>\n",
              "    </tr>\n",
              "    <tr>\n",
              "      <th>10</th>\n",
              "      <td>LB170001A-16-A</td>\n",
              "      <td>2018</td>\n",
              "      <td>1</td>\n",
              "      <td>19</td>\n",
              "      <td>N011 10</td>\n",
              "      <td>E083 17</td>\n",
              "      <td>350.0</td>\n",
              "      <td>8.0</td>\n",
              "      <td>IMULA0938TLE</td>\n",
              "      <td>2018-01-06</td>\n",
              "      <td>Tangalle</td>\n",
              "      <td>2018-01-30</td>\n",
              "      <td>Tangalle</td>\n",
              "      <td>longline</td>\n",
              "      <td>0</td>\n",
              "      <td>NaN</td>\n",
              "      <td>EEZ NA</td>\n",
              "      <td>2018-01-19</td>\n",
              "      <td>True</td>\n",
              "    </tr>\n",
              "    <tr>\n",
              "      <th>...</th>\n",
              "      <td>...</td>\n",
              "      <td>...</td>\n",
              "      <td>...</td>\n",
              "      <td>...</td>\n",
              "      <td>...</td>\n",
              "      <td>...</td>\n",
              "      <td>...</td>\n",
              "      <td>...</td>\n",
              "      <td>...</td>\n",
              "      <td>...</td>\n",
              "      <td>...</td>\n",
              "      <td>...</td>\n",
              "      <td>...</td>\n",
              "      <td>...</td>\n",
              "      <td>...</td>\n",
              "      <td>...</td>\n",
              "      <td>...</td>\n",
              "      <td>...</td>\n",
              "      <td>...</td>\n",
              "    </tr>\n",
              "    <tr>\n",
              "      <th>356162</th>\n",
              "      <td>LB184819A-07-A</td>\n",
              "      <td>2018</td>\n",
              "      <td>11</td>\n",
              "      <td>6</td>\n",
              "      <td>N010 14</td>\n",
              "      <td>E081 10</td>\n",
              "      <td>60.0</td>\n",
              "      <td>1.0</td>\n",
              "      <td>IMULA0691MTR</td>\n",
              "      <td>2018-11-18</td>\n",
              "      <td>Cod Bay</td>\n",
              "      <td>2018-12-13</td>\n",
              "      <td>Cod Bay</td>\n",
              "      <td>longline</td>\n",
              "      <td>0</td>\n",
              "      <td>NaN</td>\n",
              "      <td>EEZ NA</td>\n",
              "      <td>2018-11-06</td>\n",
              "      <td>False</td>\n",
              "    </tr>\n",
              "    <tr>\n",
              "      <th>356163</th>\n",
              "      <td>LB184819A-07-A</td>\n",
              "      <td>2018</td>\n",
              "      <td>11</td>\n",
              "      <td>28</td>\n",
              "      <td>N010 05</td>\n",
              "      <td>E081 05</td>\n",
              "      <td>80.0</td>\n",
              "      <td>3.0</td>\n",
              "      <td>IMULA0691MTR</td>\n",
              "      <td>2018-11-18</td>\n",
              "      <td>Cod Bay</td>\n",
              "      <td>2018-12-13</td>\n",
              "      <td>Cod Bay</td>\n",
              "      <td>longline</td>\n",
              "      <td>0</td>\n",
              "      <td>NaN</td>\n",
              "      <td>EEZ NA</td>\n",
              "      <td>2018-11-28</td>\n",
              "      <td>True</td>\n",
              "    </tr>\n",
              "    <tr>\n",
              "      <th>356164</th>\n",
              "      <td>LB184819A-07-A</td>\n",
              "      <td>2018</td>\n",
              "      <td>11</td>\n",
              "      <td>22</td>\n",
              "      <td>N010 17</td>\n",
              "      <td>E081 30</td>\n",
              "      <td>50.0</td>\n",
              "      <td>2.0</td>\n",
              "      <td>IMULA0691MTR</td>\n",
              "      <td>2018-11-18</td>\n",
              "      <td>Cod Bay</td>\n",
              "      <td>2018-12-13</td>\n",
              "      <td>Cod Bay</td>\n",
              "      <td>longline</td>\n",
              "      <td>500</td>\n",
              "      <td>BOLLA</td>\n",
              "      <td>EEZ NA</td>\n",
              "      <td>2018-11-22</td>\n",
              "      <td>True</td>\n",
              "    </tr>\n",
              "    <tr>\n",
              "      <th>356165</th>\n",
              "      <td>LB184819A-07-A</td>\n",
              "      <td>2018</td>\n",
              "      <td>11</td>\n",
              "      <td>24</td>\n",
              "      <td>N010 20</td>\n",
              "      <td>E081 20</td>\n",
              "      <td>15.0</td>\n",
              "      <td>1.0</td>\n",
              "      <td>IMULA0691MTR</td>\n",
              "      <td>2018-11-18</td>\n",
              "      <td>Cod Bay</td>\n",
              "      <td>2018-12-13</td>\n",
              "      <td>Cod Bay</td>\n",
              "      <td>longline</td>\n",
              "      <td>0</td>\n",
              "      <td>NaN</td>\n",
              "      <td>EEZ NA</td>\n",
              "      <td>2018-11-24</td>\n",
              "      <td>True</td>\n",
              "    </tr>\n",
              "    <tr>\n",
              "      <th>356166</th>\n",
              "      <td>LB184819A-07-A</td>\n",
              "      <td>2018</td>\n",
              "      <td>11</td>\n",
              "      <td>25</td>\n",
              "      <td>N010 10</td>\n",
              "      <td>E081 20</td>\n",
              "      <td>60.0</td>\n",
              "      <td>2.0</td>\n",
              "      <td>IMULA0691MTR</td>\n",
              "      <td>2018-11-18</td>\n",
              "      <td>Cod Bay</td>\n",
              "      <td>2018-12-13</td>\n",
              "      <td>Cod Bay</td>\n",
              "      <td>longline</td>\n",
              "      <td>0</td>\n",
              "      <td>NaN</td>\n",
              "      <td>EEZ NA</td>\n",
              "      <td>2018-11-25</td>\n",
              "      <td>True</td>\n",
              "    </tr>\n",
              "  </tbody>\n",
              "</table>\n",
              "<p>71425 rows × 19 columns</p>\n",
              "</div>\n",
              "    <div class=\"colab-df-buttons\">\n",
              "\n",
              "  <div class=\"colab-df-container\">\n",
              "    <button class=\"colab-df-convert\" onclick=\"convertToInteractive('df-8c113ce2-fbce-4b99-8dd3-23c2bec921c2')\"\n",
              "            title=\"Convert this dataframe to an interactive table.\"\n",
              "            style=\"display:none;\">\n",
              "\n",
              "  <svg xmlns=\"http://www.w3.org/2000/svg\" height=\"24px\" viewBox=\"0 -960 960 960\">\n",
              "    <path d=\"M120-120v-720h720v720H120Zm60-500h600v-160H180v160Zm220 220h160v-160H400v160Zm0 220h160v-160H400v160ZM180-400h160v-160H180v160Zm440 0h160v-160H620v160ZM180-180h160v-160H180v160Zm440 0h160v-160H620v160Z\"/>\n",
              "  </svg>\n",
              "    </button>\n",
              "\n",
              "  <style>\n",
              "    .colab-df-container {\n",
              "      display:flex;\n",
              "      gap: 12px;\n",
              "    }\n",
              "\n",
              "    .colab-df-convert {\n",
              "      background-color: #E8F0FE;\n",
              "      border: none;\n",
              "      border-radius: 50%;\n",
              "      cursor: pointer;\n",
              "      display: none;\n",
              "      fill: #1967D2;\n",
              "      height: 32px;\n",
              "      padding: 0 0 0 0;\n",
              "      width: 32px;\n",
              "    }\n",
              "\n",
              "    .colab-df-convert:hover {\n",
              "      background-color: #E2EBFA;\n",
              "      box-shadow: 0px 1px 2px rgba(60, 64, 67, 0.3), 0px 1px 3px 1px rgba(60, 64, 67, 0.15);\n",
              "      fill: #174EA6;\n",
              "    }\n",
              "\n",
              "    .colab-df-buttons div {\n",
              "      margin-bottom: 4px;\n",
              "    }\n",
              "\n",
              "    [theme=dark] .colab-df-convert {\n",
              "      background-color: #3B4455;\n",
              "      fill: #D2E3FC;\n",
              "    }\n",
              "\n",
              "    [theme=dark] .colab-df-convert:hover {\n",
              "      background-color: #434B5C;\n",
              "      box-shadow: 0px 1px 3px 1px rgba(0, 0, 0, 0.15);\n",
              "      filter: drop-shadow(0px 1px 2px rgba(0, 0, 0, 0.3));\n",
              "      fill: #FFFFFF;\n",
              "    }\n",
              "  </style>\n",
              "\n",
              "    <script>\n",
              "      const buttonEl =\n",
              "        document.querySelector('#df-8c113ce2-fbce-4b99-8dd3-23c2bec921c2 button.colab-df-convert');\n",
              "      buttonEl.style.display =\n",
              "        google.colab.kernel.accessAllowed ? 'block' : 'none';\n",
              "\n",
              "      async function convertToInteractive(key) {\n",
              "        const element = document.querySelector('#df-8c113ce2-fbce-4b99-8dd3-23c2bec921c2');\n",
              "        const dataTable =\n",
              "          await google.colab.kernel.invokeFunction('convertToInteractive',\n",
              "                                                    [key], {});\n",
              "        if (!dataTable) return;\n",
              "\n",
              "        const docLinkHtml = 'Like what you see? Visit the ' +\n",
              "          '<a target=\"_blank\" href=https://colab.research.google.com/notebooks/data_table.ipynb>data table notebook</a>'\n",
              "          + ' to learn more about interactive tables.';\n",
              "        element.innerHTML = '';\n",
              "        dataTable['output_type'] = 'display_data';\n",
              "        await google.colab.output.renderOutput(dataTable, element);\n",
              "        const docLink = document.createElement('div');\n",
              "        docLink.innerHTML = docLinkHtml;\n",
              "        element.appendChild(docLink);\n",
              "      }\n",
              "    </script>\n",
              "  </div>\n",
              "\n",
              "\n",
              "<div id=\"df-7c87fa97-bf19-400a-8242-e101f25b529e\">\n",
              "  <button class=\"colab-df-quickchart\" onclick=\"quickchart('df-7c87fa97-bf19-400a-8242-e101f25b529e')\"\n",
              "            title=\"Suggest charts\"\n",
              "            style=\"display:none;\">\n",
              "\n",
              "<svg xmlns=\"http://www.w3.org/2000/svg\" height=\"24px\"viewBox=\"0 0 24 24\"\n",
              "     width=\"24px\">\n",
              "    <g>\n",
              "        <path d=\"M19 3H5c-1.1 0-2 .9-2 2v14c0 1.1.9 2 2 2h14c1.1 0 2-.9 2-2V5c0-1.1-.9-2-2-2zM9 17H7v-7h2v7zm4 0h-2V7h2v10zm4 0h-2v-4h2v4z\"/>\n",
              "    </g>\n",
              "</svg>\n",
              "  </button>\n",
              "\n",
              "<style>\n",
              "  .colab-df-quickchart {\n",
              "      --bg-color: #E8F0FE;\n",
              "      --fill-color: #1967D2;\n",
              "      --hover-bg-color: #E2EBFA;\n",
              "      --hover-fill-color: #174EA6;\n",
              "      --disabled-fill-color: #AAA;\n",
              "      --disabled-bg-color: #DDD;\n",
              "  }\n",
              "\n",
              "  [theme=dark] .colab-df-quickchart {\n",
              "      --bg-color: #3B4455;\n",
              "      --fill-color: #D2E3FC;\n",
              "      --hover-bg-color: #434B5C;\n",
              "      --hover-fill-color: #FFFFFF;\n",
              "      --disabled-bg-color: #3B4455;\n",
              "      --disabled-fill-color: #666;\n",
              "  }\n",
              "\n",
              "  .colab-df-quickchart {\n",
              "    background-color: var(--bg-color);\n",
              "    border: none;\n",
              "    border-radius: 50%;\n",
              "    cursor: pointer;\n",
              "    display: none;\n",
              "    fill: var(--fill-color);\n",
              "    height: 32px;\n",
              "    padding: 0;\n",
              "    width: 32px;\n",
              "  }\n",
              "\n",
              "  .colab-df-quickchart:hover {\n",
              "    background-color: var(--hover-bg-color);\n",
              "    box-shadow: 0 1px 2px rgba(60, 64, 67, 0.3), 0 1px 3px 1px rgba(60, 64, 67, 0.15);\n",
              "    fill: var(--button-hover-fill-color);\n",
              "  }\n",
              "\n",
              "  .colab-df-quickchart-complete:disabled,\n",
              "  .colab-df-quickchart-complete:disabled:hover {\n",
              "    background-color: var(--disabled-bg-color);\n",
              "    fill: var(--disabled-fill-color);\n",
              "    box-shadow: none;\n",
              "  }\n",
              "\n",
              "  .colab-df-spinner {\n",
              "    border: 2px solid var(--fill-color);\n",
              "    border-color: transparent;\n",
              "    border-bottom-color: var(--fill-color);\n",
              "    animation:\n",
              "      spin 1s steps(1) infinite;\n",
              "  }\n",
              "\n",
              "  @keyframes spin {\n",
              "    0% {\n",
              "      border-color: transparent;\n",
              "      border-bottom-color: var(--fill-color);\n",
              "      border-left-color: var(--fill-color);\n",
              "    }\n",
              "    20% {\n",
              "      border-color: transparent;\n",
              "      border-left-color: var(--fill-color);\n",
              "      border-top-color: var(--fill-color);\n",
              "    }\n",
              "    30% {\n",
              "      border-color: transparent;\n",
              "      border-left-color: var(--fill-color);\n",
              "      border-top-color: var(--fill-color);\n",
              "      border-right-color: var(--fill-color);\n",
              "    }\n",
              "    40% {\n",
              "      border-color: transparent;\n",
              "      border-right-color: var(--fill-color);\n",
              "      border-top-color: var(--fill-color);\n",
              "    }\n",
              "    60% {\n",
              "      border-color: transparent;\n",
              "      border-right-color: var(--fill-color);\n",
              "    }\n",
              "    80% {\n",
              "      border-color: transparent;\n",
              "      border-right-color: var(--fill-color);\n",
              "      border-bottom-color: var(--fill-color);\n",
              "    }\n",
              "    90% {\n",
              "      border-color: transparent;\n",
              "      border-bottom-color: var(--fill-color);\n",
              "    }\n",
              "  }\n",
              "</style>\n",
              "\n",
              "  <script>\n",
              "    async function quickchart(key) {\n",
              "      const quickchartButtonEl =\n",
              "        document.querySelector('#' + key + ' button');\n",
              "      quickchartButtonEl.disabled = true;  // To prevent multiple clicks.\n",
              "      quickchartButtonEl.classList.add('colab-df-spinner');\n",
              "      try {\n",
              "        const charts = await google.colab.kernel.invokeFunction(\n",
              "            'suggestCharts', [key], {});\n",
              "      } catch (error) {\n",
              "        console.error('Error during call to suggestCharts:', error);\n",
              "      }\n",
              "      quickchartButtonEl.classList.remove('colab-df-spinner');\n",
              "      quickchartButtonEl.classList.add('colab-df-quickchart-complete');\n",
              "    }\n",
              "    (() => {\n",
              "      let quickchartButtonEl =\n",
              "        document.querySelector('#df-7c87fa97-bf19-400a-8242-e101f25b529e button');\n",
              "      quickchartButtonEl.style.display =\n",
              "        google.colab.kernel.accessAllowed ? 'block' : 'none';\n",
              "    })();\n",
              "  </script>\n",
              "</div>\n",
              "\n",
              "  <div id=\"id_eafc86ab-2788-402f-be01-c7abe3ef2681\">\n",
              "    <style>\n",
              "      .colab-df-generate {\n",
              "        background-color: #E8F0FE;\n",
              "        border: none;\n",
              "        border-radius: 50%;\n",
              "        cursor: pointer;\n",
              "        display: none;\n",
              "        fill: #1967D2;\n",
              "        height: 32px;\n",
              "        padding: 0 0 0 0;\n",
              "        width: 32px;\n",
              "      }\n",
              "\n",
              "      .colab-df-generate:hover {\n",
              "        background-color: #E2EBFA;\n",
              "        box-shadow: 0px 1px 2px rgba(60, 64, 67, 0.3), 0px 1px 3px 1px rgba(60, 64, 67, 0.15);\n",
              "        fill: #174EA6;\n",
              "      }\n",
              "\n",
              "      [theme=dark] .colab-df-generate {\n",
              "        background-color: #3B4455;\n",
              "        fill: #D2E3FC;\n",
              "      }\n",
              "\n",
              "      [theme=dark] .colab-df-generate:hover {\n",
              "        background-color: #434B5C;\n",
              "        box-shadow: 0px 1px 3px 1px rgba(0, 0, 0, 0.15);\n",
              "        filter: drop-shadow(0px 1px 2px rgba(0, 0, 0, 0.3));\n",
              "        fill: #FFFFFF;\n",
              "      }\n",
              "    </style>\n",
              "    <button class=\"colab-df-generate\" onclick=\"generateWithVariable('df18')\"\n",
              "            title=\"Generate code using this dataframe.\"\n",
              "            style=\"display:none;\">\n",
              "\n",
              "  <svg xmlns=\"http://www.w3.org/2000/svg\" height=\"24px\"viewBox=\"0 0 24 24\"\n",
              "       width=\"24px\">\n",
              "    <path d=\"M7,19H8.4L18.45,9,17,7.55,7,17.6ZM5,21V16.75L18.45,3.32a2,2,0,0,1,2.83,0l1.4,1.43a1.91,1.91,0,0,1,.58,1.4,1.91,1.91,0,0,1-.58,1.4L9.25,21ZM18.45,9,17,7.55Zm-12,3A5.31,5.31,0,0,0,4.9,8.1,5.31,5.31,0,0,0,1,6.5,5.31,5.31,0,0,0,4.9,4.9,5.31,5.31,0,0,0,6.5,1,5.31,5.31,0,0,0,8.1,4.9,5.31,5.31,0,0,0,12,6.5,5.46,5.46,0,0,0,6.5,12Z\"/>\n",
              "  </svg>\n",
              "    </button>\n",
              "    <script>\n",
              "      (() => {\n",
              "      const buttonEl =\n",
              "        document.querySelector('#id_eafc86ab-2788-402f-be01-c7abe3ef2681 button.colab-df-generate');\n",
              "      buttonEl.style.display =\n",
              "        google.colab.kernel.accessAllowed ? 'block' : 'none';\n",
              "\n",
              "      buttonEl.onclick = () => {\n",
              "        google.colab.notebook.generateWithVariable('df18');\n",
              "      }\n",
              "      })();\n",
              "    </script>\n",
              "  </div>\n",
              "\n",
              "    </div>\n",
              "  </div>\n"
            ]
          },
          "metadata": {},
          "execution_count": 168
        }
      ]
    },
    {
      "cell_type": "code",
      "source": [
        "df18.rename(columns={'Y': 'Year', 'D': 'Day', 'M':'Month', 'Lat' : 'Latitude', 'Long':'Longetude'}, inplace=True)"
      ],
      "metadata": {
        "id": "VawfrIK0jQRE"
      },
      "execution_count": 150,
      "outputs": []
    },
    {
      "cell_type": "code",
      "source": [
        "df18['Set_Date'] = pd.to_datetime(df18[['Year', 'Month', 'Day']].astype(str).agg(' '.join, axis=1), format='%Y %m %d', errors='coerce')"
      ],
      "metadata": {
        "id": "rAmek4hfmP-8"
      },
      "execution_count": 152,
      "outputs": []
    },
    {
      "cell_type": "code",
      "source": [
        "mask = (df18['Arrival_date'] >= '2019-01-01') & (df18['Set_Date'] <= '2018-01-31')\n",
        "df18.loc[mask, 'Set_Date'] = df18.loc[mask, 'Set_Date'] + pd.DateOffset(years=1)\n",
        "df18.loc[mask, 'Year'] = 2019"
      ],
      "metadata": {
        "id": "URmatOvInhud"
      },
      "execution_count": 158,
      "outputs": []
    },
    {
      "cell_type": "code",
      "source": [
        "df18['Is_In_Range'] = (df18['Set_Date'] <= df18['Arrival_date']) & (df18['Set_Date'] >= df18['Departure_Date'])\n",
        "\n",
        "# Print rows where 'Set_Date' is not in the range\n",
        "invalid_set_dates = df18[~df18['Is_In_Range']]\n",
        "print(\"Rows where 'Set_Date' is not in the range of 'Arrival_Date' and 'Departure_Date':\")\n",
        "print(invalid_set_dates)"
      ],
      "metadata": {
        "id": "O7xCg0pInqfa",
        "outputId": "163d05a7-6bb3-41b6-a6ac-c7f7146b7e08",
        "colab": {
          "base_uri": "https://localhost:8080/"
        }
      },
      "execution_count": 159,
      "outputs": [
        {
          "output_type": "stream",
          "name": "stdout",
          "text": [
            "Rows where 'Set_Date' is not in the range of 'Arrival_Date' and 'Departure_Date':\n",
            "                           Rec_No  Year  Month  Day    Latitude   Longetude  \\\n",
            "2       LB170001A-16-A             2018      1    3  N010 16     E084 43      \n",
            "64      LB170001A-24-A             2018     11   18  N005 47     E080 40      \n",
            "65      LB170001A-24-A             2018      2    1  N005 47     E080 40      \n",
            "718     LB170037A-15-A             2018      2    4  N015 35     E087 45      \n",
            "719     LB170037A-15-A             2018      2    5  N015 19     E087 54      \n",
            "...                           ...   ...    ...  ...         ...         ...   \n",
            "355874  LB184791A-02-A             2018     12   27  N008 10     E082 30      \n",
            "355912  LB184794A-03-A             2018     12   24  N008 00     E082 05      \n",
            "355913  LB184794A-03-A             2018     12   25  N008 20     E082 19      \n",
            "355914  LB184794A-03-A             2018     12   26  N008 22     E082 16      \n",
            "356162  LB184819A-07-A             2018     11    6  N010 14     E081 10      \n",
            "\n",
            "           KG  Amount       Boat_No Departure_Date Departure_Port  \\\n",
            "2       200.0     5.0  IMULA0938TLE     2018-01-06       Tangalle   \n",
            "64      550.0    10.0  IMULA0938TLE     2018-09-16       Tangalle   \n",
            "65      150.0     3.0  IMULA0938TLE     2018-09-16       Tangalle   \n",
            "718     160.0     5.0  IMULA0687TLE     2018-01-30       Tangalle   \n",
            "719     130.0     4.0  IMULA0687TLE     2018-01-30       Tangalle   \n",
            "...       ...     ...           ...            ...            ...   \n",
            "355874  108.0     2.0  IMULA0427MTR     2018-11-26  Valaichchenai   \n",
            "355912   74.0     2.0  IMULA0159KLT     2018-12-29  Valaichchenai   \n",
            "355913   24.0     1.0  IMULA0159KLT     2018-12-29  Valaichchenai   \n",
            "355914   35.0     1.0  IMULA0159KLT     2018-12-29  Valaichchenai   \n",
            "356162   60.0     1.0  IMULA0691MTR     2018-11-18        Cod Bay   \n",
            "\n",
            "       Arrival_date   Arrival_Port Catch_Type  Total_Hooks Type_of_Bait  \\\n",
            "2        2018-01-30       Tangalle   longline            0          NaN   \n",
            "64       2018-09-21       Tangalle   longline            0          NaN   \n",
            "65       2018-09-21       Tangalle   longline            0          NaN   \n",
            "718      2018-01-27       Tangalle   longline          250  Indian Scad   \n",
            "719      2018-01-27       Tangalle   longline          250  Indian Scad   \n",
            "...             ...            ...        ...          ...          ...   \n",
            "355874   2018-11-29  Valaichchenai   longline          300        SQUID   \n",
            "355912   2018-12-31  Valaichchenai   longline            5        squid   \n",
            "355913   2018-12-31  Valaichchenai   longline            5        squid   \n",
            "355914   2018-12-31  Valaichchenai   longline            5        squid   \n",
            "356162   2018-12-13        Cod Bay   longline            0          NaN   \n",
            "\n",
            "                zone   Set_Date  Is_In_Range  \n",
            "2          HIGH SEAS 2018-01-03        False  \n",
            "64            EEZ NA 2018-11-18        False  \n",
            "65               EEZ 2018-02-01        False  \n",
            "718        HIGH SEAS 2018-02-04        False  \n",
            "719     HIGH SEAS NA 2018-02-05        False  \n",
            "...              ...        ...          ...  \n",
            "355874           EEZ 2018-12-27        False  \n",
            "355912        EEZ NA 2018-12-24        False  \n",
            "355913        EEZ NA 2018-12-25        False  \n",
            "355914        EEZ NA 2018-12-26        False  \n",
            "356162        EEZ NA 2018-11-06        False  \n",
            "\n",
            "[4524 rows x 19 columns]\n"
          ]
        }
      ]
    },
    {
      "cell_type": "code",
      "source": [
        "duplicate_rows = df18[df18.duplicated()]\n",
        "\n",
        "if not duplicate_rows.empty:\n",
        "    print(\"Duplicate rows:\")\n",
        "    print(duplicate_rows)\n",
        "else:\n",
        "    print(\"No duplicate rows found.\")"
      ],
      "metadata": {
        "id": "vz5plhE4n00z",
        "outputId": "14314e8e-4290-4fd8-c875-00b7d4530665",
        "colab": {
          "base_uri": "https://localhost:8080/"
        }
      },
      "execution_count": 160,
      "outputs": [
        {
          "output_type": "stream",
          "name": "stdout",
          "text": [
            "Duplicate rows:\n",
            "                           Rec_No  Year  Month  Day    Latitude   Longetude  \\\n",
            "2555    LB170209A-09-A             2018      3   19  N007 16     E083 19      \n",
            "2996    LB170218A-15-A             2018      2   20  N009 30     E084 47      \n",
            "3112    LB170219A-12-A             2018      2    9  N008 40     E083 25      \n",
            "3845    LB170227A-15-A             2018     11   17  N014 40     E068 00      \n",
            "3860    LB170227A-15-A             2018     11   17  N015 38     E067 46      \n",
            "...                           ...   ...    ...  ...         ...         ...   \n",
            "348681  LB184668A-07-A             2018      1    1  N007 15     E082 10      \n",
            "348691  LB184668A-07-A             2018      1    1  N007 30     E082 25      \n",
            "348693  LB184668A-07-A             2018      1    1  N007 30     E082 25      \n",
            "349245  LB184675A-02-A             2018      6   20  N005 37     E082 21      \n",
            "349247  LB184675A-02-A             2018      6   20  N005 39     E082 23      \n",
            "\n",
            "            KG  Amount       Boat_No Departure_Date Departure_Port  \\\n",
            "2555     180.0     3.0  IMULA0645NBO     2018-03-03            TCO   \n",
            "2996     140.0     3.0  IMULA0581NBO     2018-02-15        Cod Bay   \n",
            "3112     170.0     3.0  IMULA0156NBO     2018-01-19        Negombo   \n",
            "3845     140.0     4.0  IMULA0714NBO     2018-10-24        Negombo   \n",
            "3860    1000.0    34.0  IMULA0714NBO     2018-10-24        Negombo   \n",
            "...        ...     ...           ...            ...            ...   \n",
            "348681   116.0     2.0  IMULA0090BCO     2018-06-19  Valaichchenai   \n",
            "348691   135.0     3.0  IMULA0090BCO     2018-06-19  Valaichchenai   \n",
            "348693   135.0     3.0  IMULA0090BCO     2018-06-19  Valaichchenai   \n",
            "349245    50.0     2.0  IMULA0056BCO     2018-06-20  Valaichchenai   \n",
            "349247    49.0     1.0  IMULA0056BCO     2018-06-20  Valaichchenai   \n",
            "\n",
            "       Arrival_date   Arrival_Port Catch_Type  Total_Hooks Type_of_Bait  \\\n",
            "2555     2018-04-07        Cod Bay   longline            0          NaN   \n",
            "2996     2018-03-09        Cod Bay   longline            0          NaN   \n",
            "3112     2018-02-12        Cod Bay   longline            0          NaN   \n",
            "3845     2018-12-03        Negombo   longline         1300      VEKKAYA   \n",
            "3860     2018-12-03        Negombo   longline         1300      VEKKAYA   \n",
            "...             ...            ...        ...          ...          ...   \n",
            "348681   2018-06-25  Valaichchenai   longline          300         FISH   \n",
            "348691   2018-06-25  Valaichchenai   longline          300         FISH   \n",
            "348693   2018-06-25  Valaichchenai   longline          300         FISH   \n",
            "349245   2018-06-23  Valaichchenai   longline          195         FISH   \n",
            "349247   2018-06-23  Valaichchenai   longline          195         FISH   \n",
            "\n",
            "                zone   Set_Date  Is_In_Range  \n",
            "2555          EEZ NA 2018-03-19         True  \n",
            "2996       HIGH SEAS 2018-02-20         True  \n",
            "3112          EEZ NA 2018-02-09         True  \n",
            "3845    HIGH SEAS NA 2018-11-17         True  \n",
            "3860    HIGH SEAS NA 2018-11-17         True  \n",
            "...              ...        ...          ...  \n",
            "348681           EEZ 2018-01-01        False  \n",
            "348691        EEZ NA 2018-01-01        False  \n",
            "348693           EEZ 2018-01-01        False  \n",
            "349245           EEZ 2018-06-20         True  \n",
            "349247           EEZ 2018-06-20         True  \n",
            "\n",
            "[1191 rows x 19 columns]\n"
          ]
        }
      ]
    },
    {
      "cell_type": "code",
      "source": [
        "df18= df18.drop_duplicates()"
      ],
      "metadata": {
        "id": "q9Y51ksmoUKD"
      },
      "execution_count": 161,
      "outputs": []
    },
    {
      "cell_type": "markdown",
      "source": [
        "2019"
      ],
      "metadata": {
        "id": "dZ9X8daSolaP"
      }
    },
    {
      "cell_type": "code",
      "source": [
        "df19.info()"
      ],
      "metadata": {
        "id": "06Xx7TttopSd",
        "outputId": "59014bf5-4b39-44ef-879e-19a938ec1046",
        "colab": {
          "base_uri": "https://localhost:8080/"
        }
      },
      "execution_count": 163,
      "outputs": [
        {
          "output_type": "stream",
          "name": "stdout",
          "text": [
            "<class 'pandas.core.frame.DataFrame'>\n",
            "RangeIndex: 407622 entries, 0 to 407621\n",
            "Data columns (total 29 columns):\n",
            " #   Column               Non-Null Count   Dtype         \n",
            "---  ------               --------------   -----         \n",
            " 0   Rec_No               407622 non-null  object        \n",
            " 1   Boat_No              407622 non-null  object        \n",
            " 2   Fish_Name            407622 non-null  object        \n",
            " 3   KG                   407622 non-null  float64       \n",
            " 4   Amount               407622 non-null  float64       \n",
            " 5   Departure_Date       407622 non-null  datetime64[ns]\n",
            " 6   Departure_Port       407622 non-null  object        \n",
            " 7   Arrival_Date         407622 non-null  datetime64[ns]\n",
            " 8   Arrival_Port         407622 non-null  object        \n",
            " 9   Catch_Type           407622 non-null  object        \n",
            " 10  Month                407622 non-null  int64         \n",
            " 11  Date_Of_Set          407622 non-null  int64         \n",
            " 12  Latitude             407622 non-null  object        \n",
            " 13  Longetude            407622 non-null  object        \n",
            " 14  Total_Hooks          407622 non-null  int64         \n",
            " 15  Total_Length_of_Net  38827 non-null   object        \n",
            " 16  Mesh_Size            407622 non-null  float64       \n",
            " 17  Depth_Net_Set        407622 non-null  float64       \n",
            " 18  Height_of_net        407622 non-null  float64       \n",
            " 19  FADType              267 non-null     object        \n",
            " 20  GillNetLen           407622 non-null  int64         \n",
            " 21  BranchLine_Len       190305 non-null  object        \n",
            " 22  Hooks_Between        407622 non-null  int64         \n",
            " 23  Type_of_Bait         66092 non-null   object        \n",
            " 24  Remarks              856 non-null     object        \n",
            " 25  Rec_Date             407622 non-null  datetime64[ns]\n",
            " 26  zone                 407599 non-null  object        \n",
            " 27  Fivedegree           407622 non-null  int64         \n",
            " 28  Onedegree            407622 non-null  int64         \n",
            "dtypes: datetime64[ns](3), float64(5), int64(7), object(14)\n",
            "memory usage: 90.2+ MB\n"
          ]
        }
      ]
    },
    {
      "cell_type": "code",
      "source": [
        "df19['Catch_Type'] = df19['Catch_Type'].str.strip()\n",
        "df19['Fish_Name'] = df19['Fish_Name'].str.strip()"
      ],
      "metadata": {
        "id": "4rhPSMSLpP8Q"
      },
      "execution_count": 164,
      "outputs": []
    },
    {
      "cell_type": "code",
      "source": [
        "df19['Catch_Type'].value_counts()"
      ],
      "metadata": {
        "id": "dtVdEubVpZM7",
        "outputId": "de26b4f3-c88a-4520-e458-bd50efb08d7d",
        "colab": {
          "base_uri": "https://localhost:8080/"
        }
      },
      "execution_count": 165,
      "outputs": [
        {
          "output_type": "execute_result",
          "data": {
            "text/plain": [
              "longline    190305\n",
              "gillnets    178490\n",
              "ringnet      38827\n",
              "Name: Catch_Type, dtype: int64"
            ]
          },
          "metadata": {},
          "execution_count": 165
        }
      ]
    },
    {
      "cell_type": "code",
      "source": [
        "df19['Fish_Name'].value_counts()"
      ],
      "metadata": {
        "id": "sJLPds8IpcyI",
        "outputId": "5a5612d4-6105-457e-83b0-7256711f7273",
        "colab": {
          "base_uri": "https://localhost:8080/"
        }
      },
      "execution_count": 166,
      "outputs": [
        {
          "output_type": "execute_result",
          "data": {
            "text/plain": [
              "Skipjack tuna                98496\n",
              "Yellowfin tuna               88465\n",
              "Sword fish                   53959\n",
              "Sail fish                    39740\n",
              "Bigeye tuna                  23039\n",
              "                             ...  \n",
              "SQUIDS                           2\n",
              "SPINNER SHARKS(KATU MORA)        1\n",
              "SURUTTA                          1\n",
              "SEA VIRAL                        1\n",
              "RAY                              1\n",
              "Name: Fish_Name, Length: 63, dtype: int64"
            ]
          },
          "metadata": {},
          "execution_count": 166
        }
      ]
    },
    {
      "cell_type": "code",
      "source": [
        "df19 = df19[df19['Catch_Type'] == 'longline']\n",
        "df19 = df19[df19['Fish_Name'] == 'Yellowfin tuna']"
      ],
      "metadata": {
        "id": "P9_s1-tipP8c"
      },
      "execution_count": 167,
      "outputs": []
    },
    {
      "cell_type": "code",
      "source": [
        "df19.drop(['Fish_Name', 'Catch_Type',\n",
        "           'Total_Length_of_Net', 'Mesh_Size', 'Depth_Net_Set','Height_of_net', 'FADType',\n",
        "           'GillNetLen' , 'BranchLine_Len', 'Hooks_Between', 'Remarks', 'Rec_Date',\n",
        "            'Fivedegree', 'Onedegree'\n",
        "           ], axis=1, inplace=True)"
      ],
      "metadata": {
        "id": "cl9Anqawo9QK"
      },
      "execution_count": 169,
      "outputs": []
    },
    {
      "cell_type": "code",
      "source": [
        "df19.rename(columns={'Arrival_Date': 'Arrival_date', 'Date_Of_Set': 'Day'}, inplace=True)"
      ],
      "metadata": {
        "id": "u4kY-8vUqLPg"
      },
      "execution_count": 170,
      "outputs": []
    },
    {
      "cell_type": "code",
      "source": [
        "df19.info()"
      ],
      "metadata": {
        "id": "PaOqtQv0reSI",
        "outputId": "eab16913-d981-4136-e3e1-e022590cdf8b",
        "colab": {
          "base_uri": "https://localhost:8080/"
        }
      },
      "execution_count": 171,
      "outputs": [
        {
          "output_type": "stream",
          "name": "stdout",
          "text": [
            "<class 'pandas.core.frame.DataFrame'>\n",
            "Int64Index: 76427 entries, 3 to 190302\n",
            "Data columns (total 15 columns):\n",
            " #   Column          Non-Null Count  Dtype         \n",
            "---  ------          --------------  -----         \n",
            " 0   Rec_No          76427 non-null  object        \n",
            " 1   Boat_No         76427 non-null  object        \n",
            " 2   KG              76427 non-null  float64       \n",
            " 3   Amount          76427 non-null  float64       \n",
            " 4   Departure_Date  76427 non-null  datetime64[ns]\n",
            " 5   Departure_Port  76427 non-null  object        \n",
            " 6   Arrival_date    76427 non-null  datetime64[ns]\n",
            " 7   Arrival_Port    76427 non-null  object        \n",
            " 8   Month           76427 non-null  int64         \n",
            " 9   Day             76427 non-null  int64         \n",
            " 10  Latitude        76427 non-null  object        \n",
            " 11  Longetude       76427 non-null  object        \n",
            " 12  Total_Hooks     76427 non-null  int64         \n",
            " 13  Type_of_Bait    30881 non-null  object        \n",
            " 14  zone            76427 non-null  object        \n",
            "dtypes: datetime64[ns](2), float64(2), int64(3), object(8)\n",
            "memory usage: 9.3+ MB\n"
          ]
        }
      ]
    },
    {
      "cell_type": "code",
      "source": [
        "df19['Year'] = 2019\n",
        "\n",
        "# Combine \"Month\", \"Date_Of_Set\", and \"Year\" to create a new variable \"Set_Date\"\n",
        "df19['Set_Date'] = pd.to_datetime(df19[['Year', 'Month', 'Day']].astype(str).agg(' '.join, axis=1), format='%Y %m %d', errors='coerce')"
      ],
      "metadata": {
        "id": "-VzWrw8RrG7e"
      },
      "execution_count": 183,
      "outputs": []
    },
    {
      "cell_type": "code",
      "source": [
        "mask = (df19['Arrival_date'] >= '2020-01-01') & (df18['Set_Date'] <= '2019-01-31')\n",
        "df18.loc[mask, 'Set_Date'] = df18.loc[mask, 'Set_Date'] + pd.DateOffset(years=1)\n",
        "df18.loc[mask, 'Year'] = 2020"
      ],
      "metadata": {
        "id": "hnOhLEuXtmKX"
      },
      "execution_count": 184,
      "outputs": []
    },
    {
      "cell_type": "code",
      "source": [
        "df19['Is_In_Range'] = (df19['Set_Date'] <= df19['Arrival_date']) & (df19['Set_Date'] >= df19['Departure_Date'])\n",
        "\n",
        "# Print rows where 'Set_Date' is not in the range\n",
        "invalid_set_dates = df19[~df19['Is_In_Range']]\n",
        "print(\"Rows where 'Set_Date' is not in the range of 'Arrival_Date' and 'Departure_Date':\")\n",
        "print(invalid_set_dates)"
      ],
      "metadata": {
        "id": "OVWa2Yzrt144",
        "outputId": "bf2cb37c-a6bd-462b-f56b-132b88c1758b",
        "colab": {
          "base_uri": "https://localhost:8080/"
        }
      },
      "execution_count": 185,
      "outputs": [
        {
          "output_type": "stream",
          "name": "stdout",
          "text": [
            "Rows where 'Set_Date' is not in the range of 'Arrival_Date' and 'Departure_Date':\n",
            "                Rec_No       Boat_No     KG  Amount Departure_Date  \\\n",
            "3       LB182048A-08-A  IMULA0319MTR   37.0     1.0     2019-01-14   \n",
            "4       LB182048A-08-A  IMULA0319MTR   32.0     1.0     2019-01-14   \n",
            "5       LB182048A-08-A  IMULA0319MTR   35.0     1.0     2019-01-14   \n",
            "6       LB182048A-08-A  IMULA0319MTR  101.0     2.0     2019-01-14   \n",
            "8       LB180133A-06-A  IMULA0981TLE  180.0     3.0     2019-01-13   \n",
            "...                ...           ...    ...     ...            ...   \n",
            "190233  LB174092A-14-A  IMULA0798CHW  200.0     5.0     2019-12-05   \n",
            "190238  LB174092A-14-A  IMULA0798CHW   90.0     3.0     2019-12-05   \n",
            "190269  LB170216A-21-A  IMULA0551CHW  200.0     5.0     2019-12-13   \n",
            "190274  LB170216A-21-A  IMULA0551CHW  200.0     5.0     2019-12-13   \n",
            "190302  LB181971A-05-A  IMULA0741NBO  400.0    10.0     2019-12-01   \n",
            "\n",
            "       Departure_Port Arrival_date Arrival_Port  Month  Day Latitude  \\\n",
            "3          Devinuwara   2019-01-22   Devinuwara     12    3  N004 10   \n",
            "4          Devinuwara   2019-01-22   Devinuwara     12    5  N004 15   \n",
            "5          Devinuwara   2019-01-22   Devinuwara     12    6  N004 10   \n",
            "6          Devinuwara   2019-01-22   Devinuwara     12    7  N004 10   \n",
            "8           Kudawella   2019-01-23      Cod Bay     11   25  N010 20   \n",
            "...               ...          ...          ...    ...  ...      ...   \n",
            "190233       Dikowita   2020-01-13     Dikowita      1    1  N008 07   \n",
            "190238       Dikowita   2020-01-13     Dikowita      1    3  N008 05   \n",
            "190269        Negombo   2020-01-10     Dikowita     11   28  N002 05   \n",
            "190274        Negombo   2020-01-10     Dikowita      1    3  N001 59   \n",
            "190302       Dikowita   2020-01-11     Dikowita      1    1  N006 25   \n",
            "\n",
            "       Longetude  Total_Hooks Type_of_Bait          zone  Year   Set_Date  \\\n",
            "3        E081 00          150        BOLLA           EEZ  2019 2019-12-03   \n",
            "4        E081 15          150        BOLLA           EEZ  2019 2019-12-05   \n",
            "5        E081 00          150        BOLLA     EEZ NA NA  2019 2019-12-06   \n",
            "6        E081 00          150        BOLLA        EEZ NA  2019 2019-12-07   \n",
            "8        E081 30          200        BOLLA        EEZ NA  2019 2019-11-25   \n",
            "...          ...          ...          ...           ...   ...        ...   \n",
            "190233   E066 20            0          NaN  HIGH SEAS NA  2019 2019-01-01   \n",
            "190238   E066 30            0          NaN     HIGH SEAS  2019 2019-01-03   \n",
            "190269   E077 41            0          NaN     HIGH SEAS  2019 2019-11-28   \n",
            "190274   E077 32            0          NaN     HIGH SEAS  2019 2019-01-03   \n",
            "190302   E069 00            0          NaN  HIGH SEAS NA  2019 2019-01-01   \n",
            "\n",
            "        Is_In_Range  \n",
            "3             False  \n",
            "4             False  \n",
            "5             False  \n",
            "6             False  \n",
            "8             False  \n",
            "...             ...  \n",
            "190233        False  \n",
            "190238        False  \n",
            "190269        False  \n",
            "190274        False  \n",
            "190302        False  \n",
            "\n",
            "[5917 rows x 18 columns]\n"
          ]
        }
      ]
    },
    {
      "cell_type": "code",
      "source": [
        "duplicate_rows = df19[df19.duplicated()]\n",
        "\n",
        "if not duplicate_rows.empty:\n",
        "    print(\"Duplicate rows:\")\n",
        "    print(duplicate_rows)\n",
        "else:\n",
        "    print(\"No duplicate rows found.\")"
      ],
      "metadata": {
        "id": "jyToDD0BuJDe",
        "outputId": "d25bd7c0-327e-4e39-af97-72d972e6a624",
        "colab": {
          "base_uri": "https://localhost:8080/"
        }
      },
      "execution_count": 186,
      "outputs": [
        {
          "output_type": "stream",
          "name": "stdout",
          "text": [
            "No duplicate rows found.\n"
          ]
        }
      ]
    },
    {
      "cell_type": "code",
      "source": [
        "merged_df2 = pd.concat([df18, df19], ignore_index=True)"
      ],
      "metadata": {
        "id": "_TDx3oTXuQy0"
      },
      "execution_count": 187,
      "outputs": []
    },
    {
      "cell_type": "code",
      "source": [
        "merged_df2.info()"
      ],
      "metadata": {
        "id": "kSGLIwXIunXx",
        "outputId": "83c16ecc-ecdc-4032-a7c0-ae58432a0f59",
        "colab": {
          "base_uri": "https://localhost:8080/"
        }
      },
      "execution_count": 188,
      "outputs": [
        {
          "output_type": "stream",
          "name": "stdout",
          "text": [
            "<class 'pandas.core.frame.DataFrame'>\n",
            "RangeIndex: 147852 entries, 0 to 147851\n",
            "Data columns (total 18 columns):\n",
            " #   Column          Non-Null Count   Dtype         \n",
            "---  ------          --------------   -----         \n",
            " 0   Rec_No          147852 non-null  object        \n",
            " 1   Year            147852 non-null  int64         \n",
            " 2   Month           147852 non-null  int64         \n",
            " 3   Day             147852 non-null  int64         \n",
            " 4   Latitude        147852 non-null  object        \n",
            " 5   Longetude       147852 non-null  object        \n",
            " 6   KG              147852 non-null  float64       \n",
            " 7   Amount          147852 non-null  float64       \n",
            " 8   Boat_No         147852 non-null  object        \n",
            " 9   Departure_Date  147852 non-null  datetime64[ns]\n",
            " 10  Departure_Port  147852 non-null  object        \n",
            " 11  Arrival_date    147852 non-null  datetime64[ns]\n",
            " 12  Arrival_Port    147852 non-null  object        \n",
            " 13  Total_Hooks     147852 non-null  int64         \n",
            " 14  Type_of_Bait    56352 non-null   object        \n",
            " 15  zone            147851 non-null  object        \n",
            " 16  Set_Date        147852 non-null  datetime64[ns]\n",
            " 17  Is_In_Range     147852 non-null  bool          \n",
            "dtypes: bool(1), datetime64[ns](3), float64(2), int64(4), object(8)\n",
            "memory usage: 19.3+ MB\n"
          ]
        }
      ]
    },
    {
      "cell_type": "code",
      "source": [
        "merged_df2.to_csv('merged_18_19.csv')\n",
        "csv_file_path = \"merged_18_19.csv\"\n",
        "colab_folder = \"/content/gdrive/MyDrive/FYP_Datasets/7_Year16to19\"\n",
        "shutil.move(csv_file_path, os.path.join(colab_folder, csv_file_path))\n",
        "\n",
        "print(f\"File '{csv_file_path}' moved to the '{colab_folder}' folder.\")"
      ],
      "metadata": {
        "id": "EJ5OtzK6udK-",
        "outputId": "1e44df53-9821-4f23-8a35-3e4e3de1811a",
        "colab": {
          "base_uri": "https://localhost:8080/"
        }
      },
      "execution_count": 189,
      "outputs": [
        {
          "output_type": "stream",
          "name": "stdout",
          "text": [
            "File 'merged_18_19.csv' moved to the '/content/gdrive/MyDrive/FYP_Datasets/7_Year16to19' folder.\n"
          ]
        }
      ]
    },
    {
      "cell_type": "code",
      "source": [
        "merged_df = pd.concat([merged_df1, merged_df2], ignore_index=True)"
      ],
      "metadata": {
        "id": "WN8auJWduwD0"
      },
      "execution_count": 190,
      "outputs": []
    },
    {
      "cell_type": "code",
      "source": [
        "merged_df.to_csv('merged_df.csv')\n",
        "csv_file_path = \"merged_df.csv\"\n",
        "colab_folder = \"/content/gdrive/MyDrive/FYP_Datasets/7_Year16to19\"\n",
        "shutil.move(csv_file_path, os.path.join(colab_folder, csv_file_path))\n",
        "\n",
        "print(f\"File '{csv_file_path}' moved to the '{colab_folder}' folder.\")"
      ],
      "metadata": {
        "id": "edl9qnTvu78d",
        "outputId": "6a44c2c8-f8ec-4aee-ea37-e2e17b30f150",
        "colab": {
          "base_uri": "https://localhost:8080/"
        }
      },
      "execution_count": 191,
      "outputs": [
        {
          "output_type": "stream",
          "name": "stdout",
          "text": [
            "File 'merged_df.csv' moved to the '/content/gdrive/MyDrive/FYP_Datasets/7_Year16to19' folder.\n"
          ]
        }
      ]
    }
  ]
}